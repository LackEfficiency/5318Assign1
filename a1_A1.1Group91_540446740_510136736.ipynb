{
 "cells": [
  {
   "cell_type": "markdown",
   "id": "70338f1f-d161-46af-b555-62110e52b9b1",
   "metadata": {},
   "source": [
    "# The environment setting is 13-12100 and RTX2070"
   ]
  },
  {
   "cell_type": "markdown",
   "id": "c3850f49-0e31-4788-8f62-377e170e95ef",
   "metadata": {},
   "source": [
    "### 1. Environment Setup"
   ]
  },
  {
   "cell_type": "markdown",
   "id": "03db11fb-c40e-4bca-9023-bdaa8b6bc92b",
   "metadata": {},
   "source": [
    "#### 1.1.Import packages"
   ]
  },
  {
   "cell_type": "code",
   "execution_count": 1,
   "id": "5db97214-35b7-4e76-86e2-ba582570bd75",
   "metadata": {},
   "outputs": [],
   "source": [
    "import os\n",
    "import time\n",
    "import pandas as pd\n",
    "import numpy as np\n",
    "import math\n",
    "import random\n",
    "from tqdm import tqdm\n",
    "from sklearn.model_selection import KFold, ParameterGrid\n",
    "from sklearn.metrics import f1_score, accuracy_score\n",
    "import seaborn as sns\n",
    "import pickle\n",
    "import matplotlib.pyplot as plt\n",
    "from sklearn.model_selection import train_test_split\n",
    "from torch.utils.data import DataLoader, Dataset\n",
    "from torch.utils.data import random_split\n",
    "from torch.optim import lr_scheduler\n",
    "import torch.nn.functional as F\n",
    "from torchvision import models, transforms\n",
    "import torch\n",
    "import torch.nn as nn\n",
    "import torch.optim as optim\n",
    "from typing import List, Tuple\n",
    "device = torch.device(\"cuda:0\" if torch.cuda.is_available() else \"cpu\")\n",
    "torch.manual_seed(540446740)\n",
    "torch.cuda.manual_seed(540446740)"
   ]
  },
  {
   "cell_type": "code",
   "execution_count": 36,
   "id": "340e887a-1fb7-43ec-8c8a-cbb2e01d930c",
   "metadata": {},
   "outputs": [],
   "source": [
    "#If cannot run, modify this path\n",
    "path = os.path.join(os.curdir, \"data\")"
   ]
  },
  {
   "cell_type": "markdown",
   "id": "37c734b9-3570-45e9-b32c-d022a9cad463",
   "metadata": {},
   "source": [
    "#### 1.2.Define Class and functions"
   ]
  },
  {
   "cell_type": "code",
   "execution_count": 3,
   "id": "c815765e-dcb8-4107-9065-75128d6f1a56",
   "metadata": {},
   "outputs": [],
   "source": [
    "class MultiLabelDataset(Dataset):\n",
    "    def __init__(self, path: str, transform: 'transform' = None):\n",
    "        \"\"\"\n",
    "        Initializes the dataset class, specifying the path and setting up a transform function.\n",
    "\n",
    "        Args:\n",
    "        path: The directory path where the dataset files are stored.\n",
    "        transform: A transformation function to apply to the images. Default is None.\n",
    "        \"\"\"\n",
    "        self.path = path\n",
    "        self.train = self.path + '\\\\train.csv'  \n",
    "        self.test = self.path + '\\\\test1.csv' \n",
    "        self.predict = self.path + '\\\\test2.csv' \n",
    "        self.data = np.array([])  \n",
    "        self.label = np.array([])  \n",
    "        self.transform = transform  \n",
    "\n",
    "    def __len__(self) -> int:\n",
    "        \"\"\"\n",
    "        Returns the size of the dataset (number of samples).\n",
    "\n",
    "        Returns:\n",
    "        int: The number of samples in the dataset.\n",
    "        \"\"\"\n",
    "        if self.data.size == 0:\n",
    "            raise ValueError('Data not loaded')\n",
    "        return self.data.shape[0]\n",
    "\n",
    "    def __getitem__(self, idx: int) -> Tuple[np.ndarray, np.ndarray]:\n",
    "        \"\"\"\n",
    "        Retrieves the sample and label at the given index.\n",
    "\n",
    "        Args:\n",
    "        idx: Index of the sample to retrieve.\n",
    "\n",
    "        Returns:\n",
    "        A tuple containing the image data and the corresponding label.\n",
    "        \"\"\"\n",
    "        if self.data.size == 0:\n",
    "            raise ValueError('Data not loaded')\n",
    "        if self.label.size > 0:\n",
    "            label = self.label[idx] \n",
    "        else:\n",
    "            label = -1 \n",
    "        image = self.data[idx].astype('float')  \n",
    "        if self.transform:\n",
    "            image = self.transform(image) \n",
    "        return image, label\n",
    "\n",
    "    def _load_and_process(self, filepath: str) -> Tuple[np.ndarray, np.ndarray]:\n",
    "        \"\"\"\n",
    "        private function, loads and processes data from the specified CSV file.\n",
    "\n",
    "        Args:\n",
    "        filepath: The path to the CSV file.\n",
    "\n",
    "        Returns:\n",
    "        A tuple containing the feature data and labels.\n",
    "        \"\"\"\n",
    "        df = pd.read_csv(filepath) \n",
    "        labels = np.array(df.iloc[:, -1]) \n",
    "        features = np.array(df.iloc[:, 1:-1])\n",
    "        features = features.reshape(features.shape[0], 28, 28, 1)  \n",
    "        return features, labels\n",
    "\n",
    "    def loadData(self, mode: str = 'train') -> None:\n",
    "        \"\"\"\n",
    "        Loads the data based on the selected mode.\n",
    "\n",
    "        Args:\n",
    "        mode: Mode of the data to load. Choices are 'train', 'test', or 'predict'.\n",
    "        \"\"\"\n",
    "        if mode == 'train':\n",
    "            self.data, self.label = self._load_and_process(self.train) \n",
    "        elif mode == 'test':\n",
    "            self.data, self.label = self._load_and_process(self.test)\n",
    "        elif mode == 'predict':\n",
    "            self.data = pd.read_csv(self.predict).iloc[:, 1:].to_numpy()\n",
    "            self.data = self.data.reshape(self.data.shape[0], 28, 28, 1)\n",
    "            self.label = np.array([-1] * self.data.shape[0]) \n",
    "        else:\n",
    "            raise ValueError(\"Invalid mode. Choose 'train', 'test', or 'predict'.\")\n",
    "\n",
    "    def showImg(self, idx: int = None) -> None:\n",
    "        \"\"\"\n",
    "        Displays an image from the dataset.\n",
    "\n",
    "        Args:\n",
    "        idx: Index of the image to display. If None, a random image will be shown.\n",
    "        \"\"\"\n",
    "        if idx is None:\n",
    "            idx = random.randint(0, self.data.shape[0] - 1)  \n",
    "        feature = self[idx][0].reshape(self[idx][0].shape[1], self[idx][0].shape[1]) \n",
    "        label = self.label[idx] if self.label.size > 0 else np.array([]) \n",
    "        plt.figure(figsize=(3, 3))\n",
    "        plt.imshow(feature, cmap='gray')  \n",
    "        plt.title(\"class \" + str(label))  \n",
    "        plt.show()\n"
   ]
  },
  {
   "cell_type": "code",
   "execution_count": 4,
   "id": "57d64887-2b0c-4985-aaf3-46201b786c4d",
   "metadata": {},
   "outputs": [],
   "source": [
    "class Tools():\n",
    "    @staticmethod\n",
    "    def cal_mean_std(dataset: np.ndarray) -> Tuple[float, float]:\n",
    "        \"\"\"\n",
    "        Calculate the mean and standard deviation of the dataset.\n",
    "        \n",
    "        Args:\n",
    "        dataset: The dataset from which to calculate mean and standard deviation.\n",
    "                 The dataset should not be transformed or scaled yet.\n",
    "        \n",
    "        Returns:\n",
    "        The mean and standard deviation of the dataset.\n",
    "        \"\"\"\n",
    "        mean = 0.0\n",
    "        std = 0.0\n",
    "        \n",
    "        for img in dataset.data:\n",
    "            mean += img.mean() \n",
    "            std += img.std()    \n",
    "        \n",
    "        mean /= len(dataset)\n",
    "        std /= len(dataset)\n",
    "        \n",
    "        return mean, std\n",
    "\n",
    "    @staticmethod\n",
    "    def standardize(dataset: np.ndarray, mean: float, std: float) -> None:\n",
    "        \"\"\"\n",
    "        Apply standardization to the dataset using the given mean and standard deviation.\n",
    "        \n",
    "        Args:\n",
    "        dataset: The dataset to standardize.\n",
    "        mean: The mean to use for standardization.\n",
    "        std: The standard deviation to use for standardization.\n",
    "        \"\"\"\n",
    "        dataset.data = (dataset.data - mean) / std\n",
    "\n",
    "    @staticmethod\n",
    "    def flatten(dataset: np.ndarray) -> None:\n",
    "        \"\"\"\n",
    "        Flatten each image in the dataset from a 2D array to a 1D array.\n",
    "        \n",
    "        Args:\n",
    "        dataset: The dataset whose images should be flattened.\n",
    "                 The shape will change from (N, 28, 28, 1) to (N, 28*28).\n",
    "        \"\"\"\n",
    "        dataset.data = dataset.data.reshape(dataset.data.shape[0], 28*28)\n"
   ]
  },
  {
   "cell_type": "code",
   "execution_count": 5,
   "id": "1bf85eea-c1fb-4243-bbfb-0d26d14cc1a6",
   "metadata": {},
   "outputs": [],
   "source": [
    "## dl model\n",
    "class ResNet(nn.Module): \n",
    "    def __init__(self):\n",
    "        super(ResNet, self).__init__()\n",
    "        self.conv1 = nn.Sequential(\n",
    "            nn.Conv2d(in_channels=1, out_channels=32, kernel_size=3, stride=1, padding=1),\n",
    "            nn.BatchNorm2d(32),\n",
    "            nn.ReLU(),\n",
    "            nn.MaxPool2d(kernel_size=2, stride=2),\n",
    "            nn.Dropout(p=0.3)\n",
    "        )\n",
    "        self.conv2 = nn.Sequential(\n",
    "            nn.Conv2d(in_channels=32, out_channels=64, kernel_size=3, stride=1, padding=1),\n",
    "            nn.BatchNorm2d(64),\n",
    "            nn.ReLU(),\n",
    "            nn.MaxPool2d(kernel_size=2, stride=2),\n",
    "            nn.Dropout(p=0.3)\n",
    "        )\n",
    "        self.conv3 = nn.Sequential(\n",
    "            nn.Conv2d(in_channels=64, out_channels=128, kernel_size=3, stride=1, padding=1),\n",
    "            nn.BatchNorm2d(128),\n",
    "            nn.ReLU(),\n",
    "            nn.AvgPool2d(kernel_size=2, stride=2),\n",
    "            nn.Dropout(p=0.4)\n",
    "        )\n",
    "        self.residual = nn.Sequential(\n",
    "            nn.Conv2d(in_channels=1, out_channels=128, kernel_size=1, stride=4, padding=0),\n",
    "            nn.AvgPool2d(kernel_size=2, stride=2),\n",
    "            nn.BatchNorm2d(128)\n",
    "        )\n",
    "        self.classifier = nn.Sequential(\n",
    "            nn.Linear(128 * 3 * 3, 256),\n",
    "            nn.ReLU(),\n",
    "            nn.Dropout(p=0.5),\n",
    "            nn.Linear(256, 10)\n",
    "        )\n",
    "\n",
    "    def forward(self, x):\n",
    "        residual = self.residual(x)\n",
    "        x = self.conv1(x)\n",
    "        x = self.conv2(x)\n",
    "        x = self.conv3(x)\n",
    "        x += residual  # ResNet Connection\n",
    "        x = x.view(x.size(0), -1)\n",
    "        output = self.classifier(x)\n",
    "        return output"
   ]
  },
  {
   "cell_type": "code",
   "execution_count": 6,
   "id": "1808bb6f-f71b-41bb-987c-c2a1b98f3f32",
   "metadata": {},
   "outputs": [],
   "source": [
    "class FeatureExtractor(nn.Module):\n",
    "    def __init__(self):\n",
    "        \"\"\"\n",
    "        Initializes the FeatureExtractor module, which extracts features from images\n",
    "        using the first three convolutional layers of the pre-trained model \n",
    "        \"\"\"\n",
    "        super(FeatureExtractor, self).__init__()\n",
    "        self.features = nn.Sequential(\n",
    "            model.conv1,\n",
    "            model.conv2,\n",
    "            model.conv3,\n",
    "        )\n",
    "        self.Linear = nn.Sequential(\n",
    "            nn.Linear(128 * 3 * 3, 128)\n",
    "        )\n",
    "\n",
    "    def forward(self, x):\n",
    "        x = self.features(x)\n",
    "        x = x.view(x.size(0), -1) \n",
    "        x = self.Linear(x)\n",
    "        return x\n",
    "\n",
    "def extract_features(loader, model):\n",
    "    \"\"\"\n",
    "    Extracts features from a dataset.\n",
    "    \"\"\"\n",
    "    model.to(device)\n",
    "    model.eval()\n",
    "    features = []\n",
    "    labels = []\n",
    "    with torch.no_grad():\n",
    "        for images, label in loader:\n",
    "            images, label = images.to(device).float(), label.to(device)\n",
    "            output = model(images)\n",
    "            features.append(output.cpu().numpy())\n",
    "            labels.append(label.cpu().numpy())\n",
    "    \n",
    "    features = np.concatenate(features, axis=0)\n",
    "    labels = np.concatenate(labels, axis=0)\n",
    "    return features, labels"
   ]
  },
  {
   "cell_type": "code",
   "execution_count": 37,
   "id": "4e5ccf4a-a0a7-4ba5-be08-5984866c9866",
   "metadata": {},
   "outputs": [],
   "source": [
    "def cross_validate_model(model_class:'model', param_grid:dict, X:np.ndarray, y:np.ndarray, k:int = 5) -> dict:\n",
    "    \"\"\"\n",
    "    function to do cross validation with grid search\n",
    "    \n",
    "    Args:\n",
    "    model_class: The machine learning model class (e.g., RandomForestClassifier).\n",
    "    param_grid: A dictionary of hyperparameters to evaluate.\n",
    "    X: Feature matrix.\n",
    "    y: Labels.\n",
    "    k: Number of folds for cross-validation.\n",
    "\n",
    "    Returns:\n",
    "    A dictionary containing accuracy and F1 scores for each hyperparameter combination.\n",
    "    \"\"\"\n",
    "    results = []\n",
    "    kf = KFold(n_splits=k)\n",
    "    param_list = list(ParameterGrid(param_grid))\n",
    "\n",
    "    for params in param_list:\n",
    "        accuracy_list = []\n",
    "        f1_list = []\n",
    "        training_time = 0\n",
    "        inference_time = 0\n",
    "\n",
    "        print(f\"Hyperparameters: {params}\")\n",
    "\n",
    "        for train_index, test_index in kf.split(X):\n",
    "            X_train, X_test = X[train_index], X[test_index]\n",
    "            y_train, y_test = y[train_index], y[test_index]\n",
    "\n",
    "            model = model_class(**params)\n",
    "\n",
    "            # Measure training time\n",
    "            start_time = time.perf_counter()\n",
    "            model.fit(X_train, y_train)\n",
    "            training_time += time.perf_counter() - start_time\n",
    "\n",
    "            # Measure inference time\n",
    "            start_time = time.perf_counter()\n",
    "            y_pred = model.predict(X_test)\n",
    "            inference_time += time.perf_counter() - start_time\n",
    "\n",
    "            # Calculate metrics\n",
    "            accuracy_list.append(accuracy_score(y_test, y_pred))\n",
    "            f1_list.append(f1_score(y_test, y_pred, average='weighted'))\n",
    "\n",
    "        # Average metrics over k folds\n",
    "        avg_accuracy = np.mean(accuracy_list)\n",
    "        avg_f1 = np.mean(f1_list)\n",
    "        avg_training_time = training_time / k\n",
    "        avg_inference_time = inference_time / k\n",
    "\n",
    "        print(f\"Average Test Accuracy: {avg_accuracy:.4f}, Average Test F1 Score: {avg_f1:.4f}\")\n",
    "        print(f\"Average Training Time per Fold: {avg_training_time:.4f} seconds\")\n",
    "        print(f\"Average Inference Time per Fold: {avg_inference_time:.4f} seconds\\n\")\n",
    "\n",
    "        # Store results\n",
    "        results.append({\n",
    "            'accuracy': avg_accuracy,\n",
    "            'f1_score': avg_f1,\n",
    "            'training_time': avg_training_time,\n",
    "            'inference_time': avg_inference_time\n",
    "        })\n",
    "\n",
    "    return results"
   ]
  },
  {
   "cell_type": "code",
   "execution_count": 8,
   "id": "b1e9390c-3036-45c9-86e1-bb2fa7601235",
   "metadata": {},
   "outputs": [],
   "source": [
    "def plot_heatmaps(results:dict, row_name:str, row_values:List, col_name:str, col_values:List) -> None:\n",
    "    \"\"\"\n",
    "    Plot heatmaps \n",
    "    Args:\n",
    "    results: The dictionary containing the results.\n",
    "    row_name: The name of the hyperparameter corresponding to the rows.\n",
    "    row_values: List of values for the row hyperparameter.\n",
    "    col_name: The name of the hyperparameter corresponding to the columns.\n",
    "    col_values: List of values for the column hyperparameter.\n",
    "    \"\"\"\n",
    "    accuracy_matrix = np.array([metrics['accuracy'] for metrics in results]).reshape((len(col_values), len(row_values)))\n",
    "    f1_matrix = np.array([metrics['f1_score'] for metrics in results]).reshape((len(col_values), len(row_values)))\n",
    "    \n",
    "    fig, ax = plt.subplots(1, 2, figsize=(16, 8))\n",
    "    \n",
    "    sns.heatmap(accuracy_matrix, xticklabels=row_values, yticklabels=col_values, cmap='coolwarm', annot=True, fmt='.4f', ax=ax[0], cbar_kws={'label': 'Accuracy'})\n",
    "    ax[0].set_title('Accuracy Heatmap')\n",
    "    ax[0].set_xlabel(row_name)\n",
    "    ax[0].set_ylabel(col_name)\n",
    "    \n",
    "    sns.heatmap(f1_matrix, xticklabels=row_values, yticklabels=col_values, cmap='coolwarm', annot=True, fmt='.4f', ax=ax[1], cbar_kws={'label': 'F1-score'})\n",
    "    ax[1].set_title('F1-score Heatmap')\n",
    "    ax[1].set_xlabel(row_name)\n",
    "    ax[1].set_ylabel(col_name)\n",
    "    \n",
    "    plt.tight_layout()\n",
    "    plt.show()\n"
   ]
  },
  {
   "cell_type": "code",
   "execution_count": 9,
   "id": "0e2b69fa-0fbf-40bf-a0eb-f7e0b6edf085",
   "metadata": {},
   "outputs": [],
   "source": [
    "def train_model(model:'model') -> None:\n",
    "    \"\"\"\n",
    "    Trains a machine learning model and evaluates its performance, including the training time, inference time,\n",
    "    accuracy, and F1-score.\n",
    "    \"\"\"\n",
    "    start_time = time.perf_counter()\n",
    "    model.fit(train_features, train_labels)\n",
    "    end_time = time.perf_counter()\n",
    "    training_time = end_time - start_time\n",
    "    print(f\"training time: {training_time:.6f} seconds\")\n",
    "    \n",
    "    start_time = time.perf_counter()\n",
    "    test_pred = model.predict(test_features)\n",
    "    end_time = time.perf_counter()\n",
    "    inference_time = end_time - start_time\n",
    "    print(f\"inference time: {inference_time:.6f} seconds\")\n",
    "    accuracy = accuracy_score(test_labels, test_pred)\n",
    "    f1 = f1_score(test_labels, test_pred, average='weighted')\n",
    "    print(f\"Test Accuracy: {accuracy}, Test F1-Score: {f1}\")"
   ]
  },
  {
   "cell_type": "markdown",
   "id": "7f0e33fa-6272-42e8-b042-22d2cf3b120d",
   "metadata": {},
   "source": [
    "### 2.Load data and do simple proprecessing (standardization and Random Horizaontal Flip)"
   ]
  },
  {
   "cell_type": "code",
   "execution_count": 10,
   "id": "38db1183-0904-4ba5-98ca-d3007f59fb98",
   "metadata": {},
   "outputs": [],
   "source": [
    "batch_size = 256\n",
    "#define tarnsform(used for deep learning) \n",
    "transform = transforms.Compose([transforms.ToTensor(),   \n",
    "                                transforms.RandomHorizontalFlip(p=0.5)])\n",
    "#full sample training\n",
    "train_dataset = MultiLabelDataset(path, transform = transform)\n",
    "train_dataset.loadData('train')\n",
    "mean, std = Tools.cal_mean_std(train_dataset)\n",
    "Tools.standardize(train_dataset, mean, std)\n",
    "train_loader = DataLoader(train_dataset, batch_size=batch_size, shuffle=False, num_workers=0)\n",
    "\n",
    "#test\n",
    "test_transform = transforms.Compose([transforms.ToTensor()])\n",
    "test_dataset = MultiLabelDataset(path, transform = test_transform)\n",
    "test_dataset.loadData('test')\n",
    "mean, std = Tools.cal_mean_std(test_dataset)\n",
    "Tools.standardize(test_dataset, mean, std)\n",
    "test_loader = DataLoader(test_dataset, batch_size=batch_size, shuffle=False, num_workers=0)\n",
    "\n",
    "#predict\n",
    "predict_dataset = MultiLabelDataset(path, transform = test_transform)\n",
    "predict_dataset.loadData('predict')\n",
    "mean, std = Tools.cal_mean_std(predict_dataset)\n",
    "Tools.standardize(predict_dataset, mean, std)\n",
    "predict_loader = DataLoader(predict_dataset, batch_size=batch_size, shuffle=False, num_workers=0)"
   ]
  },
  {
   "cell_type": "code",
   "execution_count": 11,
   "id": "82362e16-2c6b-4026-adc6-63b6a37fd834",
   "metadata": {},
   "outputs": [
    {
     "data": {
      "image/png": "[encoded data removed]",
      "text/plain": [
       "<Figure size 300x300 with 1 Axes>"
      ]
     },
     "metadata": {},
     "output_type": "display_data"
    }
   ],
   "source": [
    "train_dataset.showImg()"
   ]
  },
  {
   "cell_type": "markdown",
   "id": "c0a30364-9931-4855-9ea8-7a122d533596",
   "metadata": {},
   "source": [
    "#### 2.1.Train dl model"
   ]
  },
  {
   "cell_type": "code",
   "execution_count": 12,
   "id": "cb23fbe7-61cb-4777-b7f6-3c958e212f6b",
   "metadata": {
    "scrolled": true
   },
   "outputs": [
    {
     "name": "stderr",
     "output_type": "stream",
     "text": [
      "Epoch 1 Training: 100%|██████████| 118/118 [00:01<00:00, 63.68it/s]\n",
      "Epoch 1 Validation: 100%|██████████| 8/8 [00:00<00:00, 256.93it/s]\n"
     ]
    },
    {
     "name": "stdout",
     "output_type": "stream",
     "text": [
      "Epoch 1, Train Loss: 0.8823144082295693, Train Accuracy: 0.6706333333333333, Validation Loss: 0.5934894308447838, Validation Accuracy: 0.768\n"
     ]
    },
    {
     "name": "stderr",
     "output_type": "stream",
     "text": [
      "Epoch 2 Training: 100%|██████████| 118/118 [00:01<00:00, 68.83it/s]\n",
      "Epoch 2 Validation: 100%|██████████| 8/8 [00:00<00:00, 140.94it/s]\n"
     ]
    },
    {
     "name": "stdout",
     "output_type": "stream",
     "text": [
      "Epoch 2, Train Loss: 0.5935697464619653, Train Accuracy: 0.7765666666666666, Validation Loss: 0.5040313638746738, Validation Accuracy: 0.8105\n"
     ]
    },
    {
     "name": "stderr",
     "output_type": "stream",
     "text": [
      "Epoch 3 Training: 100%|██████████| 118/118 [00:01<00:00, 71.28it/s]\n",
      "Epoch 3 Validation: 100%|██████████| 8/8 [00:00<00:00, 255.93it/s]\n"
     ]
    },
    {
     "name": "stdout",
     "output_type": "stream",
     "text": [
      "Epoch 3, Train Loss: 0.5206455378714254, Train Accuracy: 0.807, Validation Loss: 0.43273353949189186, Validation Accuracy: 0.8445\n"
     ]
    },
    {
     "name": "stderr",
     "output_type": "stream",
     "text": [
      "Epoch 4 Training: 100%|██████████| 118/118 [00:01<00:00, 75.16it/s]\n",
      "Epoch 4 Validation: 100%|██████████| 8/8 [00:00<00:00, 170.91it/s]\n"
     ]
    },
    {
     "name": "stdout",
     "output_type": "stream",
     "text": [
      "Epoch 4, Train Loss: 0.4690082126249701, Train Accuracy: 0.8250666666666666, Validation Loss: 0.4008869417011738, Validation Accuracy: 0.8475\n"
     ]
    },
    {
     "name": "stderr",
     "output_type": "stream",
     "text": [
      "Epoch 5 Training: 100%|██████████| 118/118 [00:01<00:00, 73.56it/s]\n",
      "Epoch 5 Validation: 100%|██████████| 8/8 [00:00<00:00, 256.00it/s]\n"
     ]
    },
    {
     "name": "stdout",
     "output_type": "stream",
     "text": [
      "Epoch 5, Train Loss: 0.4427386327820309, Train Accuracy: 0.8362, Validation Loss: 0.37462250515818596, Validation Accuracy: 0.852\n"
     ]
    },
    {
     "name": "stderr",
     "output_type": "stream",
     "text": [
      "Epoch 6 Training: 100%|██████████| 118/118 [00:01<00:00, 75.37it/s]\n",
      "Epoch 6 Validation: 100%|██████████| 8/8 [00:00<00:00, 170.88it/s]\n"
     ]
    },
    {
     "name": "stdout",
     "output_type": "stream",
     "text": [
      "Epoch 6, Train Loss: 0.41976049353005523, Train Accuracy: 0.8435666666666667, Validation Loss: 0.3540031723678112, Validation Accuracy: 0.8635\n"
     ]
    },
    {
     "name": "stderr",
     "output_type": "stream",
     "text": [
      "Epoch 7 Training: 100%|██████████| 118/118 [00:01<00:00, 74.40it/s]\n",
      "Epoch 7 Validation: 100%|██████████| 8/8 [00:00<00:00, 254.60it/s]\n"
     ]
    },
    {
     "name": "stdout",
     "output_type": "stream",
     "text": [
      "Epoch 7, Train Loss: 0.40266448436147073, Train Accuracy: 0.8525333333333334, Validation Loss: 0.3304241821169853, Validation Accuracy: 0.8675\n"
     ]
    },
    {
     "name": "stderr",
     "output_type": "stream",
     "text": [
      "Epoch 8 Training: 100%|██████████| 118/118 [00:01<00:00, 73.67it/s]\n",
      "Epoch 8 Validation: 100%|██████████| 8/8 [00:00<00:00, 157.33it/s]\n"
     ]
    },
    {
     "name": "stdout",
     "output_type": "stream",
     "text": [
      "Epoch 8, Train Loss: 0.38365826831530714, Train Accuracy: 0.8574666666666667, Validation Loss: 0.3141709975898266, Validation Accuracy: 0.8795\n"
     ]
    },
    {
     "name": "stderr",
     "output_type": "stream",
     "text": [
      "Epoch 9 Training: 100%|██████████| 118/118 [00:01<00:00, 75.16it/s]\n",
      "Epoch 9 Validation: 100%|██████████| 8/8 [00:00<00:00, 229.79it/s]\n"
     ]
    },
    {
     "name": "stdout",
     "output_type": "stream",
     "text": [
      "Epoch 9, Train Loss: 0.37653585056127126, Train Accuracy: 0.8625666666666667, Validation Loss: 0.27875345945358276, Validation Accuracy: 0.893\n"
     ]
    },
    {
     "name": "stderr",
     "output_type": "stream",
     "text": [
      "Epoch 10 Training: 100%|██████████| 118/118 [00:01<00:00, 73.42it/s]\n",
      "Epoch 10 Validation: 100%|██████████| 8/8 [00:00<00:00, 256.46it/s]\n"
     ]
    },
    {
     "name": "stdout",
     "output_type": "stream",
     "text": [
      "Epoch 10, Train Loss: 0.3678962560528416, Train Accuracy: 0.8646333333333334, Validation Loss: 0.2945862840861082, Validation Accuracy: 0.881\n"
     ]
    },
    {
     "name": "stderr",
     "output_type": "stream",
     "text": [
      "Epoch 11 Training: 100%|██████████| 118/118 [00:01<00:00, 71.86it/s]\n",
      "Epoch 11 Validation: 100%|██████████| 8/8 [00:00<00:00, 170.68it/s]\n"
     ]
    },
    {
     "name": "stdout",
     "output_type": "stream",
     "text": [
      "Epoch 11, Train Loss: 0.35243971469038626, Train Accuracy: 0.8720666666666667, Validation Loss: 0.2848129943013191, Validation Accuracy: 0.8895\n"
     ]
    },
    {
     "name": "stderr",
     "output_type": "stream",
     "text": [
      "Epoch 12 Training: 100%|██████████| 118/118 [00:01<00:00, 71.50it/s]\n",
      "Epoch 12 Validation: 100%|██████████| 8/8 [00:00<00:00, 203.39it/s]\n"
     ]
    },
    {
     "name": "stdout",
     "output_type": "stream",
     "text": [
      "Epoch 12, Train Loss: 0.34819346274864876, Train Accuracy: 0.8708333333333333, Validation Loss: 0.265529353171587, Validation Accuracy: 0.894\n"
     ]
    },
    {
     "name": "stderr",
     "output_type": "stream",
     "text": [
      "Epoch 13 Training: 100%|██████████| 118/118 [00:01<00:00, 75.28it/s]\n",
      "Epoch 13 Validation: 100%|██████████| 8/8 [00:00<00:00, 256.03it/s]\n"
     ]
    },
    {
     "name": "stdout",
     "output_type": "stream",
     "text": [
      "Epoch 13, Train Loss: 0.3427744813389697, Train Accuracy: 0.8723, Validation Loss: 0.2662642151117325, Validation Accuracy: 0.8945\n"
     ]
    },
    {
     "name": "stderr",
     "output_type": "stream",
     "text": [
      "Epoch 14 Training: 100%|██████████| 118/118 [00:01<00:00, 71.49it/s]\n",
      "Epoch 14 Validation: 100%|██████████| 8/8 [00:00<00:00, 255.19it/s]\n"
     ]
    },
    {
     "name": "stdout",
     "output_type": "stream",
     "text": [
      "Epoch 14, Train Loss: 0.33513910664340196, Train Accuracy: 0.8762, Validation Loss: 0.2589466776698828, Validation Accuracy: 0.8975\n"
     ]
    },
    {
     "name": "stderr",
     "output_type": "stream",
     "text": [
      "Epoch 15 Training: 100%|██████████| 118/118 [00:01<00:00, 68.96it/s]\n",
      "Epoch 15 Validation: 100%|██████████| 8/8 [00:00<00:00, 194.50it/s]\n"
     ]
    },
    {
     "name": "stdout",
     "output_type": "stream",
     "text": [
      "Epoch 15, Train Loss: 0.33204464892209584, Train Accuracy: 0.8775666666666667, Validation Loss: 0.2559505235403776, Validation Accuracy: 0.8995\n"
     ]
    },
    {
     "name": "stderr",
     "output_type": "stream",
     "text": [
      "Epoch 16 Training: 100%|██████████| 118/118 [00:01<00:00, 68.29it/s]\n",
      "Epoch 16 Validation: 100%|██████████| 8/8 [00:00<00:00, 162.47it/s]\n"
     ]
    },
    {
     "name": "stdout",
     "output_type": "stream",
     "text": [
      "Epoch 16, Train Loss: 0.3219895775161557, Train Accuracy: 0.8805666666666667, Validation Loss: 0.25051150284707546, Validation Accuracy: 0.9065\n"
     ]
    },
    {
     "name": "stderr",
     "output_type": "stream",
     "text": [
      "Epoch 17 Training: 100%|██████████| 118/118 [00:01<00:00, 75.39it/s]\n",
      "Epoch 17 Validation: 100%|██████████| 8/8 [00:00<00:00, 180.17it/s]\n"
     ]
    },
    {
     "name": "stdout",
     "output_type": "stream",
     "text": [
      "Epoch 17, Train Loss: 0.32072619841260425, Train Accuracy: 0.8826666666666667, Validation Loss: 0.24925978481769562, Validation Accuracy: 0.902\n"
     ]
    },
    {
     "name": "stderr",
     "output_type": "stream",
     "text": [
      "Epoch 18 Training: 100%|██████████| 118/118 [00:01<00:00, 74.86it/s]\n",
      "Epoch 18 Validation: 100%|██████████| 8/8 [00:00<00:00, 242.42it/s]\n"
     ]
    },
    {
     "name": "stdout",
     "output_type": "stream",
     "text": [
      "Epoch 18, Train Loss: 0.31247097746295444, Train Accuracy: 0.8855333333333333, Validation Loss: 0.2508124653249979, Validation Accuracy: 0.899\n"
     ]
    },
    {
     "name": "stderr",
     "output_type": "stream",
     "text": [
      "Epoch 19 Training: 100%|██████████| 118/118 [00:01<00:00, 71.54it/s]\n",
      "Epoch 19 Validation: 100%|██████████| 8/8 [00:00<00:00, 354.24it/s]\n"
     ]
    },
    {
     "name": "stdout",
     "output_type": "stream",
     "text": [
      "Epoch 19, Train Loss: 0.3083359831470554, Train Accuracy: 0.8873333333333333, Validation Loss: 0.229946531355381, Validation Accuracy: 0.908\n"
     ]
    },
    {
     "name": "stderr",
     "output_type": "stream",
     "text": [
      "Epoch 20 Training: 100%|██████████| 118/118 [00:01<00:00, 69.81it/s]\n",
      "Epoch 20 Validation: 100%|██████████| 8/8 [00:00<00:00, 229.06it/s]\n"
     ]
    },
    {
     "name": "stdout",
     "output_type": "stream",
     "text": [
      "Epoch 20, Train Loss: 0.3034965197666217, Train Accuracy: 0.8900666666666667, Validation Loss: 0.22123495675623417, Validation Accuracy: 0.912\n"
     ]
    },
    {
     "name": "stderr",
     "output_type": "stream",
     "text": [
      "Epoch 21 Training: 100%|██████████| 118/118 [00:01<00:00, 73.98it/s]\n",
      "Epoch 21 Validation: 100%|██████████| 8/8 [00:00<00:00, 192.60it/s]\n"
     ]
    },
    {
     "name": "stdout",
     "output_type": "stream",
     "text": [
      "Epoch 21, Train Loss: 0.2994940408458144, Train Accuracy: 0.8892333333333333, Validation Loss: 0.2592040468007326, Validation Accuracy: 0.903\n"
     ]
    },
    {
     "name": "stderr",
     "output_type": "stream",
     "text": [
      "Epoch 22 Training: 100%|██████████| 118/118 [00:01<00:00, 66.99it/s]\n",
      "Epoch 22 Validation: 100%|██████████| 8/8 [00:00<00:00, 167.07it/s]\n"
     ]
    },
    {
     "name": "stdout",
     "output_type": "stream",
     "text": [
      "Epoch 22, Train Loss: 0.29270913666587767, Train Accuracy: 0.8904, Validation Loss: 0.23017065413296223, Validation Accuracy: 0.915\n"
     ]
    },
    {
     "name": "stderr",
     "output_type": "stream",
     "text": [
      "Epoch 23 Training: 100%|██████████| 118/118 [00:01<00:00, 70.25it/s]\n",
      "Epoch 23 Validation: 100%|██████████| 8/8 [00:00<00:00, 314.95it/s]\n"
     ]
    },
    {
     "name": "stdout",
     "output_type": "stream",
     "text": [
      "Epoch 23, Train Loss: 0.28899024016523767, Train Accuracy: 0.8917666666666667, Validation Loss: 0.247668681666255, Validation Accuracy: 0.904\n"
     ]
    },
    {
     "name": "stderr",
     "output_type": "stream",
     "text": [
      "Epoch 24 Training: 100%|██████████| 118/118 [00:01<00:00, 73.14it/s]\n",
      "Epoch 24 Validation: 100%|██████████| 8/8 [00:00<00:00, 169.35it/s]\n"
     ]
    },
    {
     "name": "stdout",
     "output_type": "stream",
     "text": [
      "Epoch 24, Train Loss: 0.2859559748637474, Train Accuracy: 0.8927666666666667, Validation Loss: 0.23031276278197765, Validation Accuracy: 0.91\n"
     ]
    },
    {
     "name": "stderr",
     "output_type": "stream",
     "text": [
      "Epoch 25 Training: 100%|██████████| 118/118 [00:01<00:00, 73.58it/s]\n",
      "Epoch 25 Validation: 100%|██████████| 8/8 [00:00<00:00, 255.96it/s]\n"
     ]
    },
    {
     "name": "stdout",
     "output_type": "stream",
     "text": [
      "Epoch 25, Train Loss: 0.2869851485021033, Train Accuracy: 0.8933666666666666, Validation Loss: 0.21963420696556568, Validation Accuracy: 0.9185\n"
     ]
    },
    {
     "name": "stderr",
     "output_type": "stream",
     "text": [
      "Epoch 26 Training: 100%|██████████| 118/118 [00:01<00:00, 73.30it/s]\n",
      "Epoch 26 Validation: 100%|██████████| 8/8 [00:00<00:00, 169.17it/s]\n"
     ]
    },
    {
     "name": "stdout",
     "output_type": "stream",
     "text": [
      "Epoch 26, Train Loss: 0.27786792581111697, Train Accuracy: 0.8964333333333333, Validation Loss: 0.2391980066895485, Validation Accuracy: 0.91\n"
     ]
    },
    {
     "name": "stderr",
     "output_type": "stream",
     "text": [
      "Epoch 27 Training: 100%|██████████| 118/118 [00:01<00:00, 75.50it/s]\n",
      "Epoch 27 Validation: 100%|██████████| 8/8 [00:00<00:00, 256.02it/s]\n"
     ]
    },
    {
     "name": "stdout",
     "output_type": "stream",
     "text": [
      "Epoch 27, Train Loss: 0.27848862711403327, Train Accuracy: 0.8971333333333333, Validation Loss: 0.22269759140908718, Validation Accuracy: 0.916\n"
     ]
    },
    {
     "name": "stderr",
     "output_type": "stream",
     "text": [
      "Epoch 28 Training: 100%|██████████| 118/118 [00:01<00:00, 73.81it/s]\n",
      "Epoch 28 Validation: 100%|██████████| 8/8 [00:00<00:00, 170.72it/s]\n"
     ]
    },
    {
     "name": "stdout",
     "output_type": "stream",
     "text": [
      "Epoch 28, Train Loss: 0.2757129878815958, Train Accuracy: 0.8971, Validation Loss: 0.21871474385261536, Validation Accuracy: 0.9205\n"
     ]
    },
    {
     "name": "stderr",
     "output_type": "stream",
     "text": [
      "Epoch 29 Training: 100%|██████████| 118/118 [00:01<00:00, 74.69it/s]\n",
      "Epoch 29 Validation: 100%|██████████| 8/8 [00:00<00:00, 170.87it/s]\n"
     ]
    },
    {
     "name": "stdout",
     "output_type": "stream",
     "text": [
      "Epoch 29, Train Loss: 0.2767664164431014, Train Accuracy: 0.8976666666666666, Validation Loss: 0.21640604734420776, Validation Accuracy: 0.923\n"
     ]
    },
    {
     "name": "stderr",
     "output_type": "stream",
     "text": [
      "Epoch 30 Training: 100%|██████████| 118/118 [00:01<00:00, 75.51it/s]\n",
      "Epoch 30 Validation: 100%|██████████| 8/8 [00:00<00:00, 256.04it/s]\n"
     ]
    },
    {
     "name": "stdout",
     "output_type": "stream",
     "text": [
      "Epoch 30, Train Loss: 0.2739450902504436, Train Accuracy: 0.8976333333333333, Validation Loss: 0.22399978712201118, Validation Accuracy: 0.9205\n"
     ]
    },
    {
     "name": "stderr",
     "output_type": "stream",
     "text": [
      "Epoch 31 Training: 100%|██████████| 118/118 [00:01<00:00, 74.13it/s]\n",
      "Epoch 31 Validation: 100%|██████████| 8/8 [00:00<00:00, 180.77it/s]\n"
     ]
    },
    {
     "name": "stdout",
     "output_type": "stream",
     "text": [
      "Epoch 31, Train Loss: 0.26926142179359824, Train Accuracy: 0.8990333333333334, Validation Loss: 0.21833411231637, Validation Accuracy: 0.9205\n"
     ]
    },
    {
     "name": "stderr",
     "output_type": "stream",
     "text": [
      "Epoch 32 Training: 100%|██████████| 118/118 [00:01<00:00, 73.36it/s]\n",
      "Epoch 32 Validation: 100%|██████████| 8/8 [00:00<00:00, 256.02it/s]\n"
     ]
    },
    {
     "name": "stdout",
     "output_type": "stream",
     "text": [
      "Epoch 32, Train Loss: 0.26609280648625505, Train Accuracy: 0.9000333333333334, Validation Loss: 0.22546448186039925, Validation Accuracy: 0.92\n"
     ]
    },
    {
     "name": "stderr",
     "output_type": "stream",
     "text": [
      "Epoch 33 Training: 100%|██████████| 118/118 [00:01<00:00, 73.97it/s]\n",
      "Epoch 33 Validation: 100%|██████████| 8/8 [00:00<00:00, 170.53it/s]\n"
     ]
    },
    {
     "name": "stdout",
     "output_type": "stream",
     "text": [
      "Epoch 33, Train Loss: 0.26382716252642163, Train Accuracy: 0.9022666666666667, Validation Loss: 0.2147951852530241, Validation Accuracy: 0.927\n"
     ]
    },
    {
     "name": "stderr",
     "output_type": "stream",
     "text": [
      "Epoch 34 Training: 100%|██████████| 118/118 [00:01<00:00, 76.59it/s]\n",
      "Epoch 34 Validation: 100%|██████████| 8/8 [00:00<00:00, 255.99it/s]\n"
     ]
    },
    {
     "name": "stdout",
     "output_type": "stream",
     "text": [
      "Epoch 34, Train Loss: 0.2635908771495698, Train Accuracy: 0.9015333333333333, Validation Loss: 0.2216839361935854, Validation Accuracy: 0.9225\n"
     ]
    },
    {
     "name": "stderr",
     "output_type": "stream",
     "text": [
      "Epoch 35 Training: 100%|██████████| 118/118 [00:01<00:00, 75.49it/s]\n",
      "Epoch 35 Validation: 100%|██████████| 8/8 [00:00<00:00, 170.91it/s]\n"
     ]
    },
    {
     "name": "stdout",
     "output_type": "stream",
     "text": [
      "Epoch 35, Train Loss: 0.2635360076013258, Train Accuracy: 0.9024333333333333, Validation Loss: 0.21900449320673943, Validation Accuracy: 0.9195\n"
     ]
    },
    {
     "name": "stderr",
     "output_type": "stream",
     "text": [
      "Epoch 36 Training: 100%|██████████| 118/118 [00:01<00:00, 74.00it/s]\n",
      "Epoch 36 Validation: 100%|██████████| 8/8 [00:00<00:00, 225.33it/s]\n"
     ]
    },
    {
     "name": "stdout",
     "output_type": "stream",
     "text": [
      "Epoch 36, Train Loss: 0.258633724271746, Train Accuracy: 0.9045333333333333, Validation Loss: 0.23470734059810638, Validation Accuracy: 0.916\n"
     ]
    },
    {
     "name": "stderr",
     "output_type": "stream",
     "text": [
      "Epoch 37 Training: 100%|██████████| 118/118 [00:01<00:00, 74.70it/s]\n",
      "Epoch 37 Validation: 100%|██████████| 8/8 [00:00<00:00, 256.08it/s]\n"
     ]
    },
    {
     "name": "stdout",
     "output_type": "stream",
     "text": [
      "Epoch 37, Train Loss: 0.25753094445345764, Train Accuracy: 0.9037666666666667, Validation Loss: 0.21896509267389774, Validation Accuracy: 0.918\n"
     ]
    },
    {
     "name": "stderr",
     "output_type": "stream",
     "text": [
      "Epoch 38 Training: 100%|██████████| 118/118 [00:01<00:00, 74.31it/s]\n",
      "Epoch 38 Validation: 100%|██████████| 8/8 [00:00<00:00, 256.47it/s]\n"
     ]
    },
    {
     "name": "stdout",
     "output_type": "stream",
     "text": [
      "Epoch 38, Train Loss: 0.25298350575869366, Train Accuracy: 0.9044666666666666, Validation Loss: 0.22966448962688446, Validation Accuracy: 0.92\n"
     ]
    },
    {
     "name": "stderr",
     "output_type": "stream",
     "text": [
      "Epoch 39 Training: 100%|██████████| 118/118 [00:01<00:00, 76.99it/s]\n",
      "Epoch 39 Validation: 100%|██████████| 8/8 [00:00<00:00, 170.87it/s]\n"
     ]
    },
    {
     "name": "stdout",
     "output_type": "stream",
     "text": [
      "Epoch 39, Train Loss: 0.25146857737484624, Train Accuracy: 0.9062333333333333, Validation Loss: 0.2142824660986662, Validation Accuracy: 0.922\n"
     ]
    },
    {
     "name": "stderr",
     "output_type": "stream",
     "text": [
      "Epoch 40 Training: 100%|██████████| 118/118 [00:01<00:00, 74.36it/s]\n",
      "Epoch 40 Validation: 100%|██████████| 8/8 [00:00<00:00, 256.47it/s]\n"
     ]
    },
    {
     "name": "stdout",
     "output_type": "stream",
     "text": [
      "Epoch 40, Train Loss: 0.24924853583008555, Train Accuracy: 0.9056333333333333, Validation Loss: 0.21872222423553467, Validation Accuracy: 0.9225\n"
     ]
    },
    {
     "name": "stderr",
     "output_type": "stream",
     "text": [
      "Epoch 41 Training: 100%|██████████| 118/118 [00:01<00:00, 71.82it/s]\n",
      "Epoch 41 Validation: 100%|██████████| 8/8 [00:00<00:00, 182.74it/s]\n"
     ]
    },
    {
     "name": "stdout",
     "output_type": "stream",
     "text": [
      "Epoch 41, Train Loss: 0.24945179695042513, Train Accuracy: 0.9068, Validation Loss: 0.21388568170368671, Validation Accuracy: 0.928\n"
     ]
    },
    {
     "name": "stderr",
     "output_type": "stream",
     "text": [
      "Epoch 42 Training: 100%|██████████| 118/118 [00:01<00:00, 73.91it/s]\n",
      "Epoch 42 Validation: 100%|██████████| 8/8 [00:00<00:00, 228.76it/s]\n"
     ]
    },
    {
     "name": "stdout",
     "output_type": "stream",
     "text": [
      "Epoch 42, Train Loss: 0.24825978992601572, Train Accuracy: 0.9082666666666667, Validation Loss: 0.2067458424717188, Validation Accuracy: 0.926\n"
     ]
    },
    {
     "name": "stderr",
     "output_type": "stream",
     "text": [
      "Epoch 43 Training: 100%|██████████| 118/118 [00:01<00:00, 74.80it/s]\n",
      "Epoch 43 Validation: 100%|██████████| 8/8 [00:00<00:00, 256.11it/s]\n"
     ]
    },
    {
     "name": "stdout",
     "output_type": "stream",
     "text": [
      "Epoch 43, Train Loss: 0.24766085290555226, Train Accuracy: 0.9084333333333333, Validation Loss: 0.20098804496228695, Validation Accuracy: 0.9275\n"
     ]
    },
    {
     "name": "stderr",
     "output_type": "stream",
     "text": [
      "Epoch 44 Training: 100%|██████████| 118/118 [00:01<00:00, 70.54it/s]\n",
      "Epoch 44 Validation: 100%|██████████| 8/8 [00:00<00:00, 245.23it/s]\n"
     ]
    },
    {
     "name": "stdout",
     "output_type": "stream",
     "text": [
      "Epoch 44, Train Loss: 0.2462864497960624, Train Accuracy: 0.9084666666666666, Validation Loss: 0.21889468282461166, Validation Accuracy: 0.929\n"
     ]
    },
    {
     "name": "stderr",
     "output_type": "stream",
     "text": [
      "Epoch 45 Training: 100%|██████████| 118/118 [00:01<00:00, 73.56it/s]\n",
      "Epoch 45 Validation: 100%|██████████| 8/8 [00:00<00:00, 196.10it/s]\n"
     ]
    },
    {
     "name": "stdout",
     "output_type": "stream",
     "text": [
      "Epoch 45, Train Loss: 0.24168631226076917, Train Accuracy: 0.9098666666666667, Validation Loss: 0.21319052018225193, Validation Accuracy: 0.926\n"
     ]
    },
    {
     "name": "stderr",
     "output_type": "stream",
     "text": [
      "Epoch 46 Training: 100%|██████████| 118/118 [00:01<00:00, 69.76it/s]\n",
      "Epoch 46 Validation: 100%|██████████| 8/8 [00:00<00:00, 181.86it/s]\n"
     ]
    },
    {
     "name": "stdout",
     "output_type": "stream",
     "text": [
      "Epoch 46, Train Loss: 0.24687578503863286, Train Accuracy: 0.9077333333333333, Validation Loss: 0.20213906280696392, Validation Accuracy: 0.93\n"
     ]
    },
    {
     "name": "stderr",
     "output_type": "stream",
     "text": [
      "Epoch 47 Training: 100%|██████████| 118/118 [00:01<00:00, 70.15it/s]\n",
      "Epoch 47 Validation: 100%|██████████| 8/8 [00:00<00:00, 196.71it/s]\n"
     ]
    },
    {
     "name": "stdout",
     "output_type": "stream",
     "text": [
      "Epoch 47, Train Loss: 0.24043573192873244, Train Accuracy: 0.91, Validation Loss: 0.21734200790524483, Validation Accuracy: 0.9245\n"
     ]
    },
    {
     "name": "stderr",
     "output_type": "stream",
     "text": [
      "Epoch 48 Training: 100%|██████████| 118/118 [00:01<00:00, 68.49it/s]\n",
      "Epoch 48 Validation: 100%|██████████| 8/8 [00:00<00:00, 149.33it/s]\n"
     ]
    },
    {
     "name": "stdout",
     "output_type": "stream",
     "text": [
      "Epoch 48, Train Loss: 0.24120421524522667, Train Accuracy: 0.9097333333333333, Validation Loss: 0.22194525972008705, Validation Accuracy: 0.924\n"
     ]
    },
    {
     "name": "stderr",
     "output_type": "stream",
     "text": [
      "Epoch 49 Training: 100%|██████████| 118/118 [00:01<00:00, 70.42it/s]\n",
      "Epoch 49 Validation: 100%|██████████| 8/8 [00:00<00:00, 175.38it/s]\n"
     ]
    },
    {
     "name": "stdout",
     "output_type": "stream",
     "text": [
      "Epoch 49, Train Loss: 0.24087471540196467, Train Accuracy: 0.9112666666666667, Validation Loss: 0.20656102523207664, Validation Accuracy: 0.9275\n"
     ]
    },
    {
     "name": "stderr",
     "output_type": "stream",
     "text": [
      "Epoch 50 Training: 100%|██████████| 118/118 [00:01<00:00, 71.37it/s]\n",
      "Epoch 50 Validation: 100%|██████████| 8/8 [00:00<00:00, 139.36it/s]\n"
     ]
    },
    {
     "name": "stdout",
     "output_type": "stream",
     "text": [
      "Epoch 50, Train Loss: 0.23275503762445207, Train Accuracy: 0.9138, Validation Loss: 0.20816952548921108, Validation Accuracy: 0.927\n"
     ]
    },
    {
     "name": "stderr",
     "output_type": "stream",
     "text": [
      "Epoch 51 Training: 100%|██████████| 118/118 [00:01<00:00, 72.07it/s]\n",
      "Epoch 51 Validation: 100%|██████████| 8/8 [00:00<00:00, 380.90it/s]\n"
     ]
    },
    {
     "name": "stdout",
     "output_type": "stream",
     "text": [
      "Epoch 51, Train Loss: 0.23627890551746902, Train Accuracy: 0.912, Validation Loss: 0.20748970657587051, Validation Accuracy: 0.9265\n"
     ]
    },
    {
     "name": "stderr",
     "output_type": "stream",
     "text": [
      "Epoch 52 Training: 100%|██████████| 118/118 [00:01<00:00, 73.59it/s]\n",
      "Epoch 52 Validation: 100%|██████████| 8/8 [00:00<00:00, 253.85it/s]\n"
     ]
    },
    {
     "name": "stdout",
     "output_type": "stream",
     "text": [
      "Epoch 52, Train Loss: 0.23418060071387534, Train Accuracy: 0.9136333333333333, Validation Loss: 0.20131664909422398, Validation Accuracy: 0.934\n"
     ]
    },
    {
     "name": "stderr",
     "output_type": "stream",
     "text": [
      "Epoch 53 Training: 100%|██████████| 118/118 [00:01<00:00, 76.07it/s]\n",
      "Epoch 53 Validation: 100%|██████████| 8/8 [00:00<00:00, 211.31it/s]\n"
     ]
    },
    {
     "name": "stdout",
     "output_type": "stream",
     "text": [
      "Epoch 53, Train Loss: 0.2342208739433248, Train Accuracy: 0.9117666666666666, Validation Loss: 0.19860733300447464, Validation Accuracy: 0.928\n"
     ]
    },
    {
     "name": "stderr",
     "output_type": "stream",
     "text": [
      "Epoch 54 Training: 100%|██████████| 118/118 [00:01<00:00, 76.36it/s]\n",
      "Epoch 54 Validation: 100%|██████████| 8/8 [00:00<00:00, 384.57it/s]\n"
     ]
    },
    {
     "name": "stdout",
     "output_type": "stream",
     "text": [
      "Epoch 54, Train Loss: 0.23028211529224607, Train Accuracy: 0.9142666666666667, Validation Loss: 0.1888427771627903, Validation Accuracy: 0.9385\n"
     ]
    },
    {
     "name": "stderr",
     "output_type": "stream",
     "text": [
      "Epoch 55 Training: 100%|██████████| 118/118 [00:01<00:00, 77.68it/s]\n",
      "Epoch 55 Validation: 100%|██████████| 8/8 [00:00<00:00, 221.53it/s]\n"
     ]
    },
    {
     "name": "stdout",
     "output_type": "stream",
     "text": [
      "Epoch 55, Train Loss: 0.229703546612192, Train Accuracy: 0.913, Validation Loss: 0.20459310337901115, Validation Accuracy: 0.9285\n"
     ]
    },
    {
     "name": "stderr",
     "output_type": "stream",
     "text": [
      "Epoch 56 Training: 100%|██████████| 118/118 [00:01<00:00, 78.36it/s]\n",
      "Epoch 56 Validation: 100%|██████████| 8/8 [00:00<00:00, 250.93it/s]\n"
     ]
    },
    {
     "name": "stdout",
     "output_type": "stream",
     "text": [
      "Epoch 56, Train Loss: 0.2257207581236706, Train Accuracy: 0.9146666666666666, Validation Loss: 0.20248534716665745, Validation Accuracy: 0.934\n"
     ]
    },
    {
     "name": "stderr",
     "output_type": "stream",
     "text": [
      "Epoch 57 Training: 100%|██████████| 118/118 [00:01<00:00, 77.94it/s]\n",
      "Epoch 57 Validation: 100%|██████████| 8/8 [00:00<00:00, 167.39it/s]\n"
     ]
    },
    {
     "name": "stdout",
     "output_type": "stream",
     "text": [
      "Epoch 57, Train Loss: 0.22695221900308538, Train Accuracy: 0.9162, Validation Loss: 0.20126529783010483, Validation Accuracy: 0.936\n"
     ]
    },
    {
     "name": "stderr",
     "output_type": "stream",
     "text": [
      "Epoch 58 Training: 100%|██████████| 118/118 [00:01<00:00, 76.07it/s]\n",
      "Epoch 58 Validation: 100%|██████████| 8/8 [00:00<00:00, 224.49it/s]\n"
     ]
    },
    {
     "name": "stdout",
     "output_type": "stream",
     "text": [
      "Epoch 58, Train Loss: 0.2233993252581459, Train Accuracy: 0.9158666666666667, Validation Loss: 0.20758980885148048, Validation Accuracy: 0.9325\n"
     ]
    },
    {
     "name": "stderr",
     "output_type": "stream",
     "text": [
      "Epoch 59 Training: 100%|██████████| 118/118 [00:01<00:00, 77.99it/s]\n",
      "Epoch 59 Validation: 100%|██████████| 8/8 [00:00<00:00, 193.09it/s]\n"
     ]
    },
    {
     "name": "stdout",
     "output_type": "stream",
     "text": [
      "Epoch 59, Train Loss: 0.22597308377972095, Train Accuracy: 0.9173, Validation Loss: 0.20525571703910828, Validation Accuracy: 0.9345\n"
     ]
    },
    {
     "name": "stderr",
     "output_type": "stream",
     "text": [
      "Epoch 60 Training: 100%|██████████| 118/118 [00:01<00:00, 77.88it/s]\n",
      "Epoch 60 Validation: 100%|██████████| 8/8 [00:00<00:00, 272.15it/s]\n"
     ]
    },
    {
     "name": "stdout",
     "output_type": "stream",
     "text": [
      "Epoch 60, Train Loss: 0.2244804504690534, Train Accuracy: 0.9175, Validation Loss: 0.20180991478264332, Validation Accuracy: 0.934\n"
     ]
    },
    {
     "name": "stderr",
     "output_type": "stream",
     "text": [
      "Epoch 61 Training: 100%|██████████| 118/118 [00:01<00:00, 73.54it/s]\n",
      "Epoch 61 Validation: 100%|██████████| 8/8 [00:00<00:00, 196.97it/s]\n"
     ]
    },
    {
     "name": "stdout",
     "output_type": "stream",
     "text": [
      "Epoch 61, Train Loss: 0.22629793524994687, Train Accuracy: 0.9168, Validation Loss: 0.20977982319891453, Validation Accuracy: 0.93\n"
     ]
    },
    {
     "name": "stderr",
     "output_type": "stream",
     "text": [
      "Epoch 62 Training: 100%|██████████| 118/118 [00:01<00:00, 76.01it/s]\n",
      "Epoch 62 Validation: 100%|██████████| 8/8 [00:00<00:00, 185.41it/s]\n"
     ]
    },
    {
     "name": "stdout",
     "output_type": "stream",
     "text": [
      "Epoch 62, Train Loss: 0.22191348520375914, Train Accuracy: 0.9158333333333334, Validation Loss: 0.19447594694793224, Validation Accuracy: 0.935\n"
     ]
    },
    {
     "name": "stderr",
     "output_type": "stream",
     "text": [
      "Epoch 63 Training: 100%|██████████| 118/118 [00:01<00:00, 77.35it/s]\n",
      "Epoch 63 Validation: 100%|██████████| 8/8 [00:00<00:00, 171.07it/s]\n"
     ]
    },
    {
     "name": "stdout",
     "output_type": "stream",
     "text": [
      "Epoch 63, Train Loss: 0.22416311313035125, Train Accuracy: 0.9154333333333333, Validation Loss: 0.20451220124959946, Validation Accuracy: 0.9305\n"
     ]
    },
    {
     "name": "stderr",
     "output_type": "stream",
     "text": [
      "Epoch 64 Training: 100%|██████████| 118/118 [00:01<00:00, 78.29it/s]\n",
      "Epoch 64 Validation: 100%|██████████| 8/8 [00:00<00:00, 254.01it/s]\n"
     ]
    },
    {
     "name": "stdout",
     "output_type": "stream",
     "text": [
      "Epoch 64, Train Loss: 0.21723527467604412, Train Accuracy: 0.9179666666666667, Validation Loss: 0.20095783472061157, Validation Accuracy: 0.932\n"
     ]
    },
    {
     "name": "stderr",
     "output_type": "stream",
     "text": [
      "Epoch 65 Training: 100%|██████████| 118/118 [00:01<00:00, 76.15it/s]\n",
      "Epoch 65 Validation: 100%|██████████| 8/8 [00:00<00:00, 249.30it/s]\n"
     ]
    },
    {
     "name": "stdout",
     "output_type": "stream",
     "text": [
      "Epoch 65, Train Loss: 0.2164256299324965, Train Accuracy: 0.9200333333333334, Validation Loss: 0.20064760744571686, Validation Accuracy: 0.9355\n"
     ]
    },
    {
     "name": "stderr",
     "output_type": "stream",
     "text": [
      "Epoch 66 Training: 100%|██████████| 118/118 [00:01<00:00, 77.23it/s]\n",
      "Epoch 66 Validation: 100%|██████████| 8/8 [00:00<00:00, 160.38it/s]\n"
     ]
    },
    {
     "name": "stdout",
     "output_type": "stream",
     "text": [
      "Epoch 66, Train Loss: 0.2175039474110482, Train Accuracy: 0.9195333333333333, Validation Loss: 0.2117217853665352, Validation Accuracy: 0.9295\n"
     ]
    },
    {
     "name": "stderr",
     "output_type": "stream",
     "text": [
      "Epoch 67 Training: 100%|██████████| 118/118 [00:01<00:00, 77.39it/s]\n",
      "Epoch 67 Validation: 100%|██████████| 8/8 [00:00<00:00, 168.28it/s]\n"
     ]
    },
    {
     "name": "stdout",
     "output_type": "stream",
     "text": [
      "Epoch 67, Train Loss: 0.2161902540947421, Train Accuracy: 0.9215333333333333, Validation Loss: 0.19889860972762108, Validation Accuracy: 0.9355\n"
     ]
    },
    {
     "name": "stderr",
     "output_type": "stream",
     "text": [
      "Epoch 68 Training: 100%|██████████| 118/118 [00:01<00:00, 76.97it/s]\n",
      "Epoch 68 Validation: 100%|██████████| 8/8 [00:00<00:00, 209.00it/s]\n"
     ]
    },
    {
     "name": "stdout",
     "output_type": "stream",
     "text": [
      "Epoch 68, Train Loss: 0.21781380253575616, Train Accuracy: 0.9189666666666667, Validation Loss: 0.2064985502511263, Validation Accuracy: 0.93\n"
     ]
    },
    {
     "name": "stderr",
     "output_type": "stream",
     "text": [
      "Epoch 69 Training: 100%|██████████| 118/118 [00:01<00:00, 76.32it/s]\n",
      "Epoch 69 Validation: 100%|██████████| 8/8 [00:00<00:00, 212.11it/s]\n"
     ]
    },
    {
     "name": "stdout",
     "output_type": "stream",
     "text": [
      "Epoch 69, Train Loss: 0.21544217447734484, Train Accuracy: 0.9204333333333333, Validation Loss: 0.19092358835041523, Validation Accuracy: 0.9365\n"
     ]
    },
    {
     "name": "stderr",
     "output_type": "stream",
     "text": [
      "Epoch 70 Training: 100%|██████████| 118/118 [00:01<00:00, 77.01it/s]\n",
      "Epoch 70 Validation: 100%|██████████| 8/8 [00:00<00:00, 249.34it/s]\n"
     ]
    },
    {
     "name": "stdout",
     "output_type": "stream",
     "text": [
      "Epoch 70, Train Loss: 0.21400110470920297, Train Accuracy: 0.9199, Validation Loss: 0.19819432497024536, Validation Accuracy: 0.932\n"
     ]
    },
    {
     "name": "stderr",
     "output_type": "stream",
     "text": [
      "Epoch 71 Training: 100%|██████████| 118/118 [00:01<00:00, 70.66it/s]\n",
      "Epoch 71 Validation: 100%|██████████| 8/8 [00:00<00:00, 138.44it/s]\n"
     ]
    },
    {
     "name": "stdout",
     "output_type": "stream",
     "text": [
      "Epoch 71, Train Loss: 0.21135081634935687, Train Accuracy: 0.9197, Validation Loss: 0.20303454622626305, Validation Accuracy: 0.935\n"
     ]
    },
    {
     "name": "stderr",
     "output_type": "stream",
     "text": [
      "Epoch 72 Training: 100%|██████████| 118/118 [00:01<00:00, 74.81it/s]\n",
      "Epoch 72 Validation: 100%|██████████| 8/8 [00:00<00:00, 263.69it/s]\n"
     ]
    },
    {
     "name": "stdout",
     "output_type": "stream",
     "text": [
      "Epoch 72, Train Loss: 0.21093409843111444, Train Accuracy: 0.9203666666666667, Validation Loss: 0.1990505252033472, Validation Accuracy: 0.9375\n"
     ]
    },
    {
     "name": "stderr",
     "output_type": "stream",
     "text": [
      "Epoch 73 Training: 100%|██████████| 118/118 [00:01<00:00, 76.55it/s]\n",
      "Epoch 73 Validation: 100%|██████████| 8/8 [00:00<00:00, 344.66it/s]\n"
     ]
    },
    {
     "name": "stdout",
     "output_type": "stream",
     "text": [
      "Epoch 73, Train Loss: 0.21069719901276848, Train Accuracy: 0.9192, Validation Loss: 0.20615431293845177, Validation Accuracy: 0.9345\n"
     ]
    },
    {
     "name": "stderr",
     "output_type": "stream",
     "text": [
      "Epoch 74 Training: 100%|██████████| 118/118 [00:01<00:00, 78.84it/s]\n",
      "Epoch 74 Validation: 100%|██████████| 8/8 [00:00<00:00, 149.31it/s]\n"
     ]
    },
    {
     "name": "stdout",
     "output_type": "stream",
     "text": [
      "Epoch 74, Train Loss: 0.21216681962674958, Train Accuracy: 0.9205666666666666, Validation Loss: 0.20110218599438667, Validation Accuracy: 0.938\n"
     ]
    },
    {
     "name": "stderr",
     "output_type": "stream",
     "text": [
      "Epoch 75 Training: 100%|██████████| 118/118 [00:01<00:00, 77.18it/s]\n",
      "Epoch 75 Validation: 100%|██████████| 8/8 [00:00<00:00, 174.44it/s]\n"
     ]
    },
    {
     "name": "stdout",
     "output_type": "stream",
     "text": [
      "Epoch 75, Train Loss: 0.2096519998700942, Train Accuracy: 0.9197, Validation Loss: 0.2083214484155178, Validation Accuracy: 0.928\n"
     ]
    },
    {
     "name": "stderr",
     "output_type": "stream",
     "text": [
      "Epoch 76 Training: 100%|██████████| 118/118 [00:01<00:00, 78.81it/s]\n",
      "Epoch 76 Validation: 100%|██████████| 8/8 [00:00<00:00, 219.48it/s]\n"
     ]
    },
    {
     "name": "stdout",
     "output_type": "stream",
     "text": [
      "Epoch 76, Train Loss: 0.20713868863501791, Train Accuracy: 0.9226, Validation Loss: 0.20670722238719463, Validation Accuracy: 0.9335\n"
     ]
    },
    {
     "name": "stderr",
     "output_type": "stream",
     "text": [
      "Epoch 77 Training: 100%|██████████| 118/118 [00:01<00:00, 77.00it/s]\n",
      "Epoch 77 Validation: 100%|██████████| 8/8 [00:00<00:00, 215.88it/s]\n"
     ]
    },
    {
     "name": "stdout",
     "output_type": "stream",
     "text": [
      "Epoch 77, Train Loss: 0.20731080310829617, Train Accuracy: 0.9234666666666667, Validation Loss: 0.20042402483522892, Validation Accuracy: 0.937\n"
     ]
    },
    {
     "name": "stderr",
     "output_type": "stream",
     "text": [
      "Epoch 78 Training: 100%|██████████| 118/118 [00:01<00:00, 76.87it/s]\n",
      "Epoch 78 Validation: 100%|██████████| 8/8 [00:00<00:00, 232.85it/s]\n"
     ]
    },
    {
     "name": "stdout",
     "output_type": "stream",
     "text": [
      "Epoch 78, Train Loss: 0.20819828008948746, Train Accuracy: 0.9209, Validation Loss: 0.1926584243774414, Validation Accuracy: 0.933\n"
     ]
    },
    {
     "name": "stderr",
     "output_type": "stream",
     "text": [
      "Epoch 79 Training: 100%|██████████| 118/118 [00:01<00:00, 76.94it/s]\n",
      "Epoch 79 Validation: 100%|██████████| 8/8 [00:00<00:00, 240.99it/s]\n"
     ]
    },
    {
     "name": "stdout",
     "output_type": "stream",
     "text": [
      "Epoch 79, Train Loss: 0.20953823799677826, Train Accuracy: 0.9211, Validation Loss: 0.20364327356219292, Validation Accuracy: 0.9355\n"
     ]
    },
    {
     "name": "stderr",
     "output_type": "stream",
     "text": [
      "Epoch 80 Training: 100%|██████████| 118/118 [00:01<00:00, 75.87it/s]\n",
      "Epoch 80 Validation: 100%|██████████| 8/8 [00:00<00:00, 205.40it/s]\n"
     ]
    },
    {
     "name": "stdout",
     "output_type": "stream",
     "text": [
      "Epoch 80, Train Loss: 0.2057673318658845, Train Accuracy: 0.9222666666666667, Validation Loss: 0.2009069062769413, Validation Accuracy: 0.933\n"
     ]
    },
    {
     "name": "stderr",
     "output_type": "stream",
     "text": [
      "Epoch 81 Training: 100%|██████████| 118/118 [00:01<00:00, 73.75it/s]\n",
      "Epoch 81 Validation: 100%|██████████| 8/8 [00:00<00:00, 180.43it/s]\n"
     ]
    },
    {
     "name": "stdout",
     "output_type": "stream",
     "text": [
      "Epoch 81, Train Loss: 0.20716214590406012, Train Accuracy: 0.9225333333333333, Validation Loss: 0.19541265815496445, Validation Accuracy: 0.9315\n"
     ]
    },
    {
     "name": "stderr",
     "output_type": "stream",
     "text": [
      "Epoch 82 Training: 100%|██████████| 118/118 [00:01<00:00, 75.83it/s]\n",
      "Epoch 82 Validation: 100%|██████████| 8/8 [00:00<00:00, 209.26it/s]\n"
     ]
    },
    {
     "name": "stdout",
     "output_type": "stream",
     "text": [
      "Epoch 82, Train Loss: 0.2078178122134532, Train Accuracy: 0.9228, Validation Loss: 0.1946579422801733, Validation Accuracy: 0.9385\n"
     ]
    },
    {
     "name": "stderr",
     "output_type": "stream",
     "text": [
      "Epoch 83 Training: 100%|██████████| 118/118 [00:01<00:00, 75.83it/s]\n",
      "Epoch 83 Validation: 100%|██████████| 8/8 [00:00<00:00, 214.28it/s]\n"
     ]
    },
    {
     "name": "stdout",
     "output_type": "stream",
     "text": [
      "Epoch 83, Train Loss: 0.20605644861520347, Train Accuracy: 0.9241666666666667, Validation Loss: 0.19663412123918533, Validation Accuracy: 0.936\n"
     ]
    },
    {
     "name": "stderr",
     "output_type": "stream",
     "text": [
      "Epoch 84 Training: 100%|██████████| 118/118 [00:01<00:00, 78.27it/s]\n",
      "Epoch 84 Validation: 100%|██████████| 8/8 [00:00<00:00, 225.99it/s]\n"
     ]
    },
    {
     "name": "stdout",
     "output_type": "stream",
     "text": [
      "Epoch 84, Train Loss: 0.2035622553489471, Train Accuracy: 0.9239666666666667, Validation Loss: 0.20286610163748264, Validation Accuracy: 0.931\n"
     ]
    },
    {
     "name": "stderr",
     "output_type": "stream",
     "text": [
      "Epoch 85 Training: 100%|██████████| 118/118 [00:01<00:00, 77.44it/s]\n",
      "Epoch 85 Validation: 100%|██████████| 8/8 [00:00<00:00, 212.04it/s]\n"
     ]
    },
    {
     "name": "stdout",
     "output_type": "stream",
     "text": [
      "Epoch 85, Train Loss: 0.2016079427705983, Train Accuracy: 0.9247, Validation Loss: 0.1869763284921646, Validation Accuracy: 0.935\n"
     ]
    },
    {
     "name": "stderr",
     "output_type": "stream",
     "text": [
      "Epoch 86 Training: 100%|██████████| 118/118 [00:01<00:00, 75.47it/s]\n",
      "Epoch 86 Validation: 100%|██████████| 8/8 [00:00<00:00, 191.10it/s]\n"
     ]
    },
    {
     "name": "stdout",
     "output_type": "stream",
     "text": [
      "Epoch 86, Train Loss: 0.19828229043948448, Train Accuracy: 0.9255666666666666, Validation Loss: 0.19446264393627644, Validation Accuracy: 0.937\n"
     ]
    },
    {
     "name": "stderr",
     "output_type": "stream",
     "text": [
      "Epoch 87 Training: 100%|██████████| 118/118 [00:01<00:00, 73.69it/s]\n",
      "Epoch 87 Validation: 100%|██████████| 8/8 [00:00<00:00, 255.84it/s]\n"
     ]
    },
    {
     "name": "stdout",
     "output_type": "stream",
     "text": [
      "Epoch 87, Train Loss: 0.20381933813756806, Train Accuracy: 0.9251666666666667, Validation Loss: 0.1907798834145069, Validation Accuracy: 0.937\n"
     ]
    },
    {
     "name": "stderr",
     "output_type": "stream",
     "text": [
      "Epoch 88 Training: 100%|██████████| 118/118 [00:01<00:00, 76.67it/s]\n",
      "Epoch 88 Validation: 100%|██████████| 8/8 [00:00<00:00, 258.77it/s]\n"
     ]
    },
    {
     "name": "stdout",
     "output_type": "stream",
     "text": [
      "Epoch 88, Train Loss: 0.20187207949111016, Train Accuracy: 0.9237333333333333, Validation Loss: 0.20193429477512836, Validation Accuracy: 0.936\n"
     ]
    },
    {
     "name": "stderr",
     "output_type": "stream",
     "text": [
      "Epoch 89 Training: 100%|██████████| 118/118 [00:01<00:00, 77.63it/s]\n",
      "Epoch 89 Validation: 100%|██████████| 8/8 [00:00<00:00, 195.20it/s]\n"
     ]
    },
    {
     "name": "stdout",
     "output_type": "stream",
     "text": [
      "Epoch 89, Train Loss: 0.1978676601991815, Train Accuracy: 0.9251333333333334, Validation Loss: 0.18925412464886904, Validation Accuracy: 0.9365\n"
     ]
    },
    {
     "name": "stderr",
     "output_type": "stream",
     "text": [
      "Epoch 90 Training: 100%|██████████| 118/118 [00:01<00:00, 76.57it/s]\n",
      "Epoch 90 Validation: 100%|██████████| 8/8 [00:00<00:00, 230.61it/s]\n"
     ]
    },
    {
     "name": "stdout",
     "output_type": "stream",
     "text": [
      "Epoch 90, Train Loss: 0.19685960033813776, Train Accuracy: 0.9268, Validation Loss: 0.19743071123957634, Validation Accuracy: 0.9375\n"
     ]
    },
    {
     "name": "stderr",
     "output_type": "stream",
     "text": [
      "Epoch 91 Training: 100%|██████████| 118/118 [00:01<00:00, 72.99it/s]\n",
      "Epoch 91 Validation: 100%|██████████| 8/8 [00:00<00:00, 153.29it/s]\n"
     ]
    },
    {
     "name": "stdout",
     "output_type": "stream",
     "text": [
      "Epoch 91, Train Loss: 0.19379208492651834, Train Accuracy: 0.9269333333333334, Validation Loss: 0.19588176533579826, Validation Accuracy: 0.9355\n"
     ]
    },
    {
     "name": "stderr",
     "output_type": "stream",
     "text": [
      "Epoch 92 Training: 100%|██████████| 118/118 [00:01<00:00, 77.09it/s]\n",
      "Epoch 92 Validation: 100%|██████████| 8/8 [00:00<00:00, 192.21it/s]\n"
     ]
    },
    {
     "name": "stdout",
     "output_type": "stream",
     "text": [
      "Epoch 92, Train Loss: 0.19614604604825125, Train Accuracy: 0.926, Validation Loss: 0.18652400095015764, Validation Accuracy: 0.94\n"
     ]
    },
    {
     "name": "stderr",
     "output_type": "stream",
     "text": [
      "Epoch 93 Training: 100%|██████████| 118/118 [00:01<00:00, 76.80it/s]\n",
      "Epoch 93 Validation: 100%|██████████| 8/8 [00:00<00:00, 258.90it/s]\n"
     ]
    },
    {
     "name": "stdout",
     "output_type": "stream",
     "text": [
      "Epoch 93, Train Loss: 0.1926540622203532, Train Accuracy: 0.9286666666666666, Validation Loss: 0.2054722961038351, Validation Accuracy: 0.9355\n"
     ]
    },
    {
     "name": "stderr",
     "output_type": "stream",
     "text": [
      "Epoch 94 Training: 100%|██████████| 118/118 [00:01<00:00, 77.39it/s]\n",
      "Epoch 94 Validation: 100%|██████████| 8/8 [00:00<00:00, 190.28it/s]\n"
     ]
    },
    {
     "name": "stdout",
     "output_type": "stream",
     "text": [
      "Epoch 94, Train Loss: 0.1945964617623111, Train Accuracy: 0.9273, Validation Loss: 0.18471449986100197, Validation Accuracy: 0.9385\n"
     ]
    },
    {
     "name": "stderr",
     "output_type": "stream",
     "text": [
      "Epoch 95 Training: 100%|██████████| 118/118 [00:01<00:00, 76.32it/s]\n",
      "Epoch 95 Validation: 100%|██████████| 8/8 [00:00<00:00, 217.90it/s]\n"
     ]
    },
    {
     "name": "stdout",
     "output_type": "stream",
     "text": [
      "Epoch 95, Train Loss: 0.19797465448283544, Train Accuracy: 0.925, Validation Loss: 0.1933609778061509, Validation Accuracy: 0.937\n"
     ]
    },
    {
     "name": "stderr",
     "output_type": "stream",
     "text": [
      "Epoch 96 Training: 100%|██████████| 118/118 [00:01<00:00, 76.79it/s]\n",
      "Epoch 96 Validation: 100%|██████████| 8/8 [00:00<00:00, 232.03it/s]\n"
     ]
    },
    {
     "name": "stdout",
     "output_type": "stream",
     "text": [
      "Epoch 96, Train Loss: 0.19626803159461184, Train Accuracy: 0.9252, Validation Loss: 0.19897201098501682, Validation Accuracy: 0.9385\n"
     ]
    },
    {
     "name": "stderr",
     "output_type": "stream",
     "text": [
      "Epoch 97 Training: 100%|██████████| 118/118 [00:01<00:00, 75.67it/s]\n",
      "Epoch 97 Validation: 100%|██████████| 8/8 [00:00<00:00, 249.77it/s]\n"
     ]
    },
    {
     "name": "stdout",
     "output_type": "stream",
     "text": [
      "Epoch 97, Train Loss: 0.190973037853837, Train Accuracy: 0.9270333333333334, Validation Loss: 0.19825758319348097, Validation Accuracy: 0.936\n"
     ]
    },
    {
     "name": "stderr",
     "output_type": "stream",
     "text": [
      "Epoch 98 Training: 100%|██████████| 118/118 [00:01<00:00, 76.79it/s]\n",
      "Epoch 98 Validation: 100%|██████████| 8/8 [00:00<00:00, 225.81it/s]\n"
     ]
    },
    {
     "name": "stdout",
     "output_type": "stream",
     "text": [
      "Epoch 98, Train Loss: 0.19187358438463534, Train Accuracy: 0.9283666666666667, Validation Loss: 0.19862890243530273, Validation Accuracy: 0.9345\n"
     ]
    },
    {
     "name": "stderr",
     "output_type": "stream",
     "text": [
      "Epoch 99 Training: 100%|██████████| 118/118 [00:01<00:00, 77.08it/s]\n",
      "Epoch 99 Validation: 100%|██████████| 8/8 [00:00<00:00, 232.48it/s]\n"
     ]
    },
    {
     "name": "stdout",
     "output_type": "stream",
     "text": [
      "Epoch 99, Train Loss: 0.18859141241064517, Train Accuracy: 0.929, Validation Loss: 0.18526108097285032, Validation Accuracy: 0.9395\n"
     ]
    },
    {
     "name": "stderr",
     "output_type": "stream",
     "text": [
      "Epoch 100 Training: 100%|██████████| 118/118 [00:01<00:00, 76.24it/s]\n",
      "Epoch 100 Validation: 100%|██████████| 8/8 [00:00<00:00, 244.29it/s]\n"
     ]
    },
    {
     "name": "stdout",
     "output_type": "stream",
     "text": [
      "Epoch 100, Train Loss: 0.1905813288827569, Train Accuracy: 0.9271666666666667, Validation Loss: 0.19116112682968378, Validation Accuracy: 0.936\n"
     ]
    },
    {
     "name": "stderr",
     "output_type": "stream",
     "text": [
      "Epoch 101 Training: 100%|██████████| 118/118 [00:01<00:00, 74.63it/s]\n",
      "Epoch 101 Validation: 100%|██████████| 8/8 [00:00<00:00, 171.97it/s]\n"
     ]
    },
    {
     "name": "stdout",
     "output_type": "stream",
     "text": [
      "Epoch 101, Train Loss: 0.19016918603141428, Train Accuracy: 0.9277333333333333, Validation Loss: 0.1829420141875744, Validation Accuracy: 0.938\n"
     ]
    },
    {
     "name": "stderr",
     "output_type": "stream",
     "text": [
      "Epoch 102 Training: 100%|██████████| 118/118 [00:01<00:00, 76.18it/s]\n",
      "Epoch 102 Validation: 100%|██████████| 8/8 [00:00<00:00, 175.63it/s]\n"
     ]
    },
    {
     "name": "stdout",
     "output_type": "stream",
     "text": [
      "Epoch 102, Train Loss: 0.19141776682966846, Train Accuracy: 0.9269666666666667, Validation Loss: 0.19537615776062012, Validation Accuracy: 0.937\n"
     ]
    },
    {
     "name": "stderr",
     "output_type": "stream",
     "text": [
      "Epoch 103 Training: 100%|██████████| 118/118 [00:01<00:00, 77.47it/s]\n",
      "Epoch 103 Validation: 100%|██████████| 8/8 [00:00<00:00, 213.35it/s]\n"
     ]
    },
    {
     "name": "stdout",
     "output_type": "stream",
     "text": [
      "Epoch 103, Train Loss: 0.18967244079557516, Train Accuracy: 0.9293333333333333, Validation Loss: 0.19299145694822073, Validation Accuracy: 0.9355\n"
     ]
    },
    {
     "name": "stderr",
     "output_type": "stream",
     "text": [
      "Epoch 104 Training: 100%|██████████| 118/118 [00:01<00:00, 78.29it/s]\n",
      "Epoch 104 Validation: 100%|██████████| 8/8 [00:00<00:00, 216.42it/s]\n"
     ]
    },
    {
     "name": "stdout",
     "output_type": "stream",
     "text": [
      "Epoch 104, Train Loss: 0.1892744321218234, Train Accuracy: 0.9284666666666667, Validation Loss: 0.19938386976718903, Validation Accuracy: 0.9385\n"
     ]
    },
    {
     "name": "stderr",
     "output_type": "stream",
     "text": [
      "Epoch 105 Training: 100%|██████████| 118/118 [00:01<00:00, 74.22it/s]\n",
      "Epoch 105 Validation: 100%|██████████| 8/8 [00:00<00:00, 211.88it/s]\n"
     ]
    },
    {
     "name": "stdout",
     "output_type": "stream",
     "text": [
      "Epoch 105, Train Loss: 0.19275184351382618, Train Accuracy: 0.9280333333333334, Validation Loss: 0.20164887234568596, Validation Accuracy: 0.9355\n"
     ]
    },
    {
     "name": "stderr",
     "output_type": "stream",
     "text": [
      "Epoch 106 Training: 100%|██████████| 118/118 [00:01<00:00, 74.72it/s]\n",
      "Epoch 106 Validation: 100%|██████████| 8/8 [00:00<00:00, 247.77it/s]\n"
     ]
    },
    {
     "name": "stdout",
     "output_type": "stream",
     "text": [
      "Epoch 106, Train Loss: 0.19240077566039765, Train Accuracy: 0.9267, Validation Loss: 0.1822468638420105, Validation Accuracy: 0.939\n"
     ]
    },
    {
     "name": "stderr",
     "output_type": "stream",
     "text": [
      "Epoch 107 Training: 100%|██████████| 118/118 [00:01<00:00, 76.17it/s]\n",
      "Epoch 107 Validation: 100%|██████████| 8/8 [00:00<00:00, 249.34it/s]\n"
     ]
    },
    {
     "name": "stdout",
     "output_type": "stream",
     "text": [
      "Epoch 107, Train Loss: 0.18828145190442014, Train Accuracy: 0.9298666666666666, Validation Loss: 0.1837108228355646, Validation Accuracy: 0.938\n"
     ]
    },
    {
     "name": "stderr",
     "output_type": "stream",
     "text": [
      "Epoch 108 Training: 100%|██████████| 118/118 [00:01<00:00, 76.93it/s]\n",
      "Epoch 108 Validation: 100%|██████████| 8/8 [00:00<00:00, 214.04it/s]\n"
     ]
    },
    {
     "name": "stdout",
     "output_type": "stream",
     "text": [
      "Epoch 108, Train Loss: 0.1880563325801138, Train Accuracy: 0.9293, Validation Loss: 0.19417802151292562, Validation Accuracy: 0.937\n"
     ]
    },
    {
     "name": "stderr",
     "output_type": "stream",
     "text": [
      "Epoch 109 Training: 100%|██████████| 118/118 [00:01<00:00, 78.72it/s]\n",
      "Epoch 109 Validation: 100%|██████████| 8/8 [00:00<00:00, 188.68it/s]\n"
     ]
    },
    {
     "name": "stdout",
     "output_type": "stream",
     "text": [
      "Epoch 109, Train Loss: 0.19075922118657726, Train Accuracy: 0.9283666666666667, Validation Loss: 0.1937666991725564, Validation Accuracy: 0.937\n"
     ]
    },
    {
     "name": "stderr",
     "output_type": "stream",
     "text": [
      "Epoch 110 Training: 100%|██████████| 118/118 [00:01<00:00, 77.00it/s]\n",
      "Epoch 110 Validation: 100%|██████████| 8/8 [00:00<00:00, 249.49it/s]\n"
     ]
    },
    {
     "name": "stdout",
     "output_type": "stream",
     "text": [
      "Epoch 110, Train Loss: 0.1842467487489773, Train Accuracy: 0.9308666666666666, Validation Loss: 0.20376745611429214, Validation Accuracy: 0.9345\n"
     ]
    },
    {
     "name": "stderr",
     "output_type": "stream",
     "text": [
      "Epoch 111 Training: 100%|██████████| 118/118 [00:01<00:00, 73.35it/s]\n",
      "Epoch 111 Validation: 100%|██████████| 8/8 [00:00<00:00, 138.92it/s]\n"
     ]
    },
    {
     "name": "stdout",
     "output_type": "stream",
     "text": [
      "Epoch 111, Train Loss: 0.1865363096092212, Train Accuracy: 0.9299, Validation Loss: 0.20535448752343655, Validation Accuracy: 0.9345\n"
     ]
    },
    {
     "name": "stderr",
     "output_type": "stream",
     "text": [
      "Epoch 112 Training: 100%|██████████| 118/118 [00:01<00:00, 74.87it/s]\n",
      "Epoch 112 Validation: 100%|██████████| 8/8 [00:00<00:00, 203.96it/s]\n"
     ]
    },
    {
     "name": "stdout",
     "output_type": "stream",
     "text": [
      "Epoch 112, Train Loss: 0.1864292571731543, Train Accuracy: 0.9305666666666667, Validation Loss: 0.19476819038391113, Validation Accuracy: 0.932\n"
     ]
    },
    {
     "name": "stderr",
     "output_type": "stream",
     "text": [
      "Epoch 113 Training: 100%|██████████| 118/118 [00:01<00:00, 77.08it/s]\n",
      "Epoch 113 Validation: 100%|██████████| 8/8 [00:00<00:00, 215.32it/s]\n"
     ]
    },
    {
     "name": "stdout",
     "output_type": "stream",
     "text": [
      "Epoch 113, Train Loss: 0.18058952714427043, Train Accuracy: 0.932, Validation Loss: 0.19710897374898195, Validation Accuracy: 0.9385\n"
     ]
    },
    {
     "name": "stderr",
     "output_type": "stream",
     "text": [
      "Epoch 114 Training: 100%|██████████| 118/118 [00:01<00:00, 76.66it/s]\n",
      "Epoch 114 Validation: 100%|██████████| 8/8 [00:00<00:00, 195.55it/s]\n"
     ]
    },
    {
     "name": "stdout",
     "output_type": "stream",
     "text": [
      "Epoch 114, Train Loss: 0.18009060927493087, Train Accuracy: 0.9321666666666667, Validation Loss: 0.191632647998631, Validation Accuracy: 0.9385\n"
     ]
    },
    {
     "name": "stderr",
     "output_type": "stream",
     "text": [
      "Epoch 115 Training: 100%|██████████| 118/118 [00:01<00:00, 75.48it/s]\n",
      "Epoch 115 Validation: 100%|██████████| 8/8 [00:00<00:00, 225.77it/s]\n"
     ]
    },
    {
     "name": "stdout",
     "output_type": "stream",
     "text": [
      "Epoch 115, Train Loss: 0.18199404321168944, Train Accuracy: 0.9311666666666667, Validation Loss: 0.21026774868369102, Validation Accuracy: 0.936\n"
     ]
    },
    {
     "name": "stderr",
     "output_type": "stream",
     "text": [
      "Epoch 116 Training: 100%|██████████| 118/118 [00:01<00:00, 78.34it/s]\n",
      "Epoch 116 Validation: 100%|██████████| 8/8 [00:00<00:00, 231.44it/s]\n"
     ]
    },
    {
     "name": "stdout",
     "output_type": "stream",
     "text": [
      "Epoch 116, Train Loss: 0.18123674563179581, Train Accuracy: 0.9318666666666666, Validation Loss: 0.19850670639425516, Validation Accuracy: 0.9365\n"
     ]
    },
    {
     "name": "stderr",
     "output_type": "stream",
     "text": [
      "Epoch 117 Training: 100%|██████████| 118/118 [00:01<00:00, 77.43it/s]\n",
      "Epoch 117 Validation: 100%|██████████| 8/8 [00:00<00:00, 224.70it/s]\n"
     ]
    },
    {
     "name": "stdout",
     "output_type": "stream",
     "text": [
      "Epoch 117, Train Loss: 0.18492596312347104, Train Accuracy: 0.9313333333333333, Validation Loss: 0.1912019932642579, Validation Accuracy: 0.935\n"
     ]
    },
    {
     "name": "stderr",
     "output_type": "stream",
     "text": [
      "Epoch 118 Training: 100%|██████████| 118/118 [00:01<00:00, 78.66it/s]\n",
      "Epoch 118 Validation: 100%|██████████| 8/8 [00:00<00:00, 161.26it/s]\n"
     ]
    },
    {
     "name": "stdout",
     "output_type": "stream",
     "text": [
      "Epoch 118, Train Loss: 0.18403201420807233, Train Accuracy: 0.9309666666666667, Validation Loss: 0.18793460074812174, Validation Accuracy: 0.9375\n"
     ]
    },
    {
     "name": "stderr",
     "output_type": "stream",
     "text": [
      "Epoch 119 Training: 100%|██████████| 118/118 [00:01<00:00, 76.94it/s]\n",
      "Epoch 119 Validation: 100%|██████████| 8/8 [00:00<00:00, 277.27it/s]\n"
     ]
    },
    {
     "name": "stdout",
     "output_type": "stream",
     "text": [
      "Epoch 119, Train Loss: 0.18181246556973052, Train Accuracy: 0.9312333333333334, Validation Loss: 0.20458606258034706, Validation Accuracy: 0.936\n"
     ]
    },
    {
     "name": "stderr",
     "output_type": "stream",
     "text": [
      "Epoch 120 Training: 100%|██████████| 118/118 [00:01<00:00, 75.60it/s]\n",
      "Epoch 120 Validation: 100%|██████████| 8/8 [00:00<00:00, 232.52it/s]\n"
     ]
    },
    {
     "name": "stdout",
     "output_type": "stream",
     "text": [
      "Epoch 120, Train Loss: 0.18225669440955428, Train Accuracy: 0.9318333333333333, Validation Loss: 0.19370909221470356, Validation Accuracy: 0.933\n"
     ]
    },
    {
     "name": "stderr",
     "output_type": "stream",
     "text": [
      "Epoch 121 Training: 100%|██████████| 118/118 [00:01<00:00, 75.54it/s]\n",
      "Epoch 121 Validation: 100%|██████████| 8/8 [00:00<00:00, 239.89it/s]\n"
     ]
    },
    {
     "name": "stdout",
     "output_type": "stream",
     "text": [
      "Epoch 121, Train Loss: 0.18247888139370133, Train Accuracy: 0.9309333333333333, Validation Loss: 0.18488189578056335, Validation Accuracy: 0.934\n"
     ]
    },
    {
     "name": "stderr",
     "output_type": "stream",
     "text": [
      "Epoch 122 Training: 100%|██████████| 118/118 [00:01<00:00, 74.02it/s]\n",
      "Epoch 122 Validation: 100%|██████████| 8/8 [00:00<00:00, 183.58it/s]\n"
     ]
    },
    {
     "name": "stdout",
     "output_type": "stream",
     "text": [
      "Epoch 122, Train Loss: 0.17802164874086945, Train Accuracy: 0.9320333333333334, Validation Loss: 0.19228764064610004, Validation Accuracy: 0.936\n"
     ]
    },
    {
     "name": "stderr",
     "output_type": "stream",
     "text": [
      "Epoch 123 Training: 100%|██████████| 118/118 [00:01<00:00, 77.50it/s]\n",
      "Epoch 123 Validation: 100%|██████████| 8/8 [00:00<00:00, 150.93it/s]\n"
     ]
    },
    {
     "name": "stdout",
     "output_type": "stream",
     "text": [
      "Epoch 123, Train Loss: 0.17839173836854555, Train Accuracy: 0.9319333333333333, Validation Loss: 0.18573817890137434, Validation Accuracy: 0.941\n"
     ]
    },
    {
     "name": "stderr",
     "output_type": "stream",
     "text": [
      "Epoch 124 Training: 100%|██████████| 118/118 [00:01<00:00, 76.88it/s]\n",
      "Epoch 124 Validation: 100%|██████████| 8/8 [00:00<00:00, 207.73it/s]\n"
     ]
    },
    {
     "name": "stdout",
     "output_type": "stream",
     "text": [
      "Epoch 124, Train Loss: 0.1817172070239055, Train Accuracy: 0.9330666666666667, Validation Loss: 0.18424633517861366, Validation Accuracy: 0.9385\n"
     ]
    },
    {
     "name": "stderr",
     "output_type": "stream",
     "text": [
      "Epoch 125 Training: 100%|██████████| 118/118 [00:01<00:00, 76.23it/s]\n",
      "Epoch 125 Validation: 100%|██████████| 8/8 [00:00<00:00, 172.00it/s]\n"
     ]
    },
    {
     "name": "stdout",
     "output_type": "stream",
     "text": [
      "Epoch 125, Train Loss: 0.17837786314598583, Train Accuracy: 0.9329333333333333, Validation Loss: 0.18844523839652538, Validation Accuracy: 0.935\n"
     ]
    },
    {
     "name": "stderr",
     "output_type": "stream",
     "text": [
      "Epoch 126 Training: 100%|██████████| 118/118 [00:01<00:00, 76.53it/s]\n",
      "Epoch 126 Validation: 100%|██████████| 8/8 [00:00<00:00, 168.71it/s]\n"
     ]
    },
    {
     "name": "stdout",
     "output_type": "stream",
     "text": [
      "Epoch 126, Train Loss: 0.17816658668472604, Train Accuracy: 0.9322333333333334, Validation Loss: 0.1888440102338791, Validation Accuracy: 0.937\n"
     ]
    },
    {
     "name": "stderr",
     "output_type": "stream",
     "text": [
      "Epoch 127 Training: 100%|██████████| 118/118 [00:01<00:00, 75.47it/s]\n",
      "Epoch 127 Validation: 100%|██████████| 8/8 [00:00<00:00, 220.34it/s]\n"
     ]
    },
    {
     "name": "stdout",
     "output_type": "stream",
     "text": [
      "Epoch 127, Train Loss: 0.17866902416414124, Train Accuracy: 0.9315, Validation Loss: 0.18114330619573593, Validation Accuracy: 0.937\n"
     ]
    },
    {
     "name": "stderr",
     "output_type": "stream",
     "text": [
      "Epoch 128 Training: 100%|██████████| 118/118 [00:01<00:00, 76.47it/s]\n",
      "Epoch 128 Validation: 100%|██████████| 8/8 [00:00<00:00, 261.49it/s]"
     ]
    },
    {
     "name": "stdout",
     "output_type": "stream",
     "text": [
      "Epoch 128, Train Loss: 0.17909835278987885, Train Accuracy: 0.9324666666666667, Validation Loss: 0.18220869544893503, Validation Accuracy: 0.942\n"
     ]
    },
    {
     "name": "stderr",
     "output_type": "stream",
     "text": [
      "\n"
     ]
    }
   ],
   "source": [
    "num_epochs = 128\n",
    "train_losses = []\n",
    "valid_losses = []\n",
    "train_accuracies = []\n",
    "valid_accuracies = []\n",
    "\n",
    "model = ResNet() \n",
    "model.cuda()\n",
    "\n",
    "loss_function = nn.CrossEntropyLoss()\n",
    "optimizer = torch.optim.Adam(model.parameters())\n",
    "\n",
    "for epoch in range(num_epochs):\n",
    "    # Training\n",
    "    model.train()\n",
    "    train_loss = 0.0\n",
    "    correct = 0\n",
    "    total = 0\n",
    "    train_tqdm = tqdm(train_loader, desc=f\"Epoch {epoch+1} Training\")\n",
    "    \n",
    "    for images, labels in train_tqdm:\n",
    "        images, labels = images.to(device).float(), labels.to(device)\n",
    "        optimizer.zero_grad()\n",
    "        outputs = model(images)\n",
    "        \n",
    "        loss = loss_function(outputs, labels)\n",
    "        loss.backward()\n",
    "        optimizer.step()\n",
    "        \n",
    "        train_loss += loss.item()\n",
    "        \n",
    "        _, predicted = torch.max(outputs, 1)\n",
    "        correct += (predicted == labels).sum().item()\n",
    "        total += labels.size(0)\n",
    "        \n",
    "    train_losses.append(train_loss / len(train_loader))\n",
    "    train_accuracies.append(correct / total)\n",
    "\n",
    "    # Validation\n",
    "    model.eval()\n",
    "    valid_loss = 0.0\n",
    "    correct = 0\n",
    "    total = 0\n",
    "    valid_tqdm = tqdm(test_loader, desc=f\"Epoch {epoch+1} Validation\")\n",
    "    \n",
    "    with torch.no_grad():\n",
    "        for images, labels in valid_tqdm:\n",
    "            images, labels = images.to(device).float(), labels.to(device)\n",
    "            outputs = model(images)\n",
    "            loss = loss_function(outputs, labels)\n",
    "            valid_loss += loss.item()\n",
    "            \n",
    "            _, predicted = torch.max(outputs, 1)\n",
    "            correct += (predicted == labels).sum().item()\n",
    "            total += labels.size(0)\n",
    "    \n",
    "    valid_losses.append(valid_loss / len(test_loader))\n",
    "    valid_accuracies.append(correct / total)\n",
    "\n",
    "    print(f'Epoch {epoch+1}, Train Loss: {train_losses[-1]}, Train Accuracy: {train_accuracies[-1]}, Validation Loss: {valid_losses[-1]}, Validation Accuracy: {valid_accuracies[-1]}')\n"
   ]
  },
  {
   "cell_type": "code",
   "execution_count": 13,
   "id": "60e4e761-1694-4027-9ead-6c4f5689a037",
   "metadata": {},
   "outputs": [],
   "source": [
    "# save params\n",
    "torch.save(model.state_dict(), 'resnet_pretrained.pth')"
   ]
  },
  {
   "cell_type": "markdown",
   "id": "3cbe02dc-a3fa-43d8-bbf2-c43471b0e5ff",
   "metadata": {},
   "source": [
    "#### 2.2.DataProcessing (Feature Extraction)"
   ]
  },
  {
   "cell_type": "code",
   "execution_count": 14,
   "id": "1e1a338c-e075-441d-b804-6c6819746afe",
   "metadata": {},
   "outputs": [],
   "source": [
    "# load model params\n",
    "feature_extractor = FeatureExtractor()\n",
    "feature_extractor.load_state_dict(torch.load('resnet_pretrained.pth',weights_only=False), strict=False)\n",
    "\n",
    "#extract features\n",
    "train_features, train_labels = extract_features(train_loader, feature_extractor)\n",
    "test_features, test_labels = extract_features(test_loader, feature_extractor)\n",
    "predict_features, predict_labels = extract_features(predict_loader, feature_extractor)"
   ]
  },
  {
   "cell_type": "markdown",
   "id": "74afdb3c-205a-4838-978c-c423425d9355",
   "metadata": {},
   "source": [
    "### 3.BaseLine Model"
   ]
  },
  {
   "cell_type": "markdown",
   "id": "20fa4eb2-6e6c-4aa3-a602-1ad3fddd9fb3",
   "metadata": {},
   "source": [
    "#### 3.1.SVC"
   ]
  },
  {
   "cell_type": "code",
   "execution_count": 15,
   "id": "5eca871d-3f03-47e5-a423-83d78ca68649",
   "metadata": {},
   "outputs": [
    {
     "name": "stdout",
     "output_type": "stream",
     "text": [
      "training time: 18.315627 seconds\n",
      "inference time: 2.523058 seconds\n",
      "Test Accuracy: 0.934, Test F1-Score: 0.9335680811923528\n"
     ]
    }
   ],
   "source": [
    "from sklearn import svm\n",
    "#baseline\n",
    "cur_model = svm.SVC(C = 1, gamma = 1)\n",
    "train_model(cur_model)"
   ]
  },
  {
   "cell_type": "markdown",
   "id": "f8fd1263-d7ad-4b20-a689-bfa216c25e7f",
   "metadata": {},
   "source": [
    "#### 3.2.Random Forest"
   ]
  },
  {
   "cell_type": "code",
   "execution_count": 16,
   "id": "f75e7190-3384-42d4-a2ff-2e78877a9dda",
   "metadata": {},
   "outputs": [
    {
     "name": "stdout",
     "output_type": "stream",
     "text": [
      "training time: 14.132732 seconds\n",
      "inference time: 0.008513 seconds\n",
      "Test Accuracy: 0.809, Test F1-Score: 0.8013560257005441\n"
     ]
    }
   ],
   "source": [
    "from sklearn.ensemble import RandomForestClassifier\n",
    "#baseline\n",
    "cur_model = RandomForestClassifier(n_estimators=100, max_leaf_nodes=10)\n",
    "train_model(cur_model)"
   ]
  },
  {
   "cell_type": "markdown",
   "id": "b5e5b08a-bb66-4a0e-b9e0-b9055b54bcd3",
   "metadata": {},
   "source": [
    "#### 3.3.knn"
   ]
  },
  {
   "cell_type": "code",
   "execution_count": 17,
   "id": "0f129e95-2c60-438a-8832-ec8b2ed98d57",
   "metadata": {},
   "outputs": [
    {
     "name": "stdout",
     "output_type": "stream",
     "text": [
      "training time: 0.003081 seconds\n",
      "inference time: 0.305386 seconds\n",
      "Test Accuracy: 0.914, Test F1-Score: 0.9135174186703224\n"
     ]
    }
   ],
   "source": [
    "from sklearn.neighbors import KNeighborsClassifier\n",
    "#baseline\n",
    "cur_model = KNeighborsClassifier(n_neighbors = 7, p=2)\n",
    "train_model(cur_model)"
   ]
  },
  {
   "cell_type": "markdown",
   "id": "1ea3855d-3aac-4e65-a1ec-b748398ac209",
   "metadata": {},
   "source": [
    "#### 3.4.Logistic regression"
   ]
  },
  {
   "cell_type": "code",
   "execution_count": 18,
   "id": "cd70c3d7-12b6-40fd-baf3-a625b883b3f4",
   "metadata": {},
   "outputs": [
    {
     "name": "stdout",
     "output_type": "stream",
     "text": [
      "training time: 1.962606 seconds\n",
      "inference time: 0.000855 seconds\n",
      "Test Accuracy: 0.9155, Test F1-Score: 0.915548555545516\n"
     ]
    }
   ],
   "source": [
    "from sklearn.linear_model import LogisticRegression\n",
    "#baseline\n",
    "cur_model = LogisticRegression(C = 0.1, penalty = 'l2',solver='saga', max_iter=2000)\n",
    "train_model(cur_model)"
   ]
  },
  {
   "cell_type": "markdown",
   "id": "5ee74d6a-66ff-4560-ae8c-aeb1ea3b87a2",
   "metadata": {},
   "source": [
    "### 4.Hyperparameter Tuning with Grid Search \n",
    "### (This can be skip beacuse of the running time, the results are shown in the report)"
   ]
  },
  {
   "cell_type": "markdown",
   "id": "bd7f00a6-d92a-4991-8120-b147df39eb8c",
   "metadata": {},
   "source": [
    "#### 4.1.SVC"
   ]
  },
  {
   "cell_type": "code",
   "execution_count": 19,
   "id": "0d55f0b5-1aeb-475b-a294-bbb5298a81a0",
   "metadata": {},
   "outputs": [
    {
     "name": "stdout",
     "output_type": "stream",
     "text": [
      "Hyperparameters: {'C': 0.1, 'gamma': 0.001}\n",
      "Average Test Accuracy: 0.4312, Average Test F1 Score: 0.3729\n",
      "Average Training Time per Fold: 46.0721 seconds\n",
      "Average Inference Time per Fold: 16.3507 seconds\n",
      "\n",
      "Hyperparameters: {'C': 0.1, 'gamma': 0.01}\n",
      "Average Test Accuracy: 0.8671, Average Test F1 Score: 0.8679\n",
      "Average Training Time per Fold: 18.0076 seconds\n",
      "Average Inference Time per Fold: 11.7992 seconds\n",
      "\n",
      "Hyperparameters: {'C': 0.1, 'gamma': 0.1}\n",
      "Average Test Accuracy: 0.9078, Average Test F1 Score: 0.9077\n",
      "Average Training Time per Fold: 7.0504 seconds\n",
      "Average Inference Time per Fold: 6.4538 seconds\n",
      "\n",
      "Hyperparameters: {'C': 0.1, 'gamma': 1}\n",
      "Average Test Accuracy: 0.8891, Average Test F1 Score: 0.8901\n",
      "Average Training Time per Fold: 13.3801 seconds\n",
      "Average Inference Time per Fold: 7.6552 seconds\n",
      "\n",
      "Hyperparameters: {'C': 0.1, 'gamma': 10}\n",
      "Average Test Accuracy: 0.0981, Average Test F1 Score: 0.0175\n",
      "Average Training Time per Fold: 54.0092 seconds\n",
      "Average Inference Time per Fold: 17.6257 seconds\n",
      "\n",
      "Hyperparameters: {'C': 1, 'gamma': 0.001}\n",
      "Average Test Accuracy: 0.8673, Average Test F1 Score: 0.8681\n",
      "Average Training Time per Fold: 18.3109 seconds\n",
      "Average Inference Time per Fold: 12.2457 seconds\n",
      "\n",
      "Hyperparameters: {'C': 1, 'gamma': 0.01}\n",
      "Average Test Accuracy: 0.9084, Average Test F1 Score: 0.9084\n",
      "Average Training Time per Fold: 6.7094 seconds\n",
      "Average Inference Time per Fold: 6.2758 seconds\n",
      "\n",
      "Hyperparameters: {'C': 1, 'gamma': 0.1}\n",
      "Average Test Accuracy: 0.9244, Average Test F1 Score: 0.9244\n",
      "Average Training Time per Fold: 3.6298 seconds\n",
      "Average Inference Time per Fold: 3.8224 seconds\n",
      "\n",
      "Hyperparameters: {'C': 1, 'gamma': 1}\n",
      "Average Test Accuracy: 0.9294, Average Test F1 Score: 0.9291\n",
      "Average Training Time per Fold: 10.5358 seconds\n",
      "Average Inference Time per Fold: 5.8169 seconds\n",
      "\n",
      "Hyperparameters: {'C': 1, 'gamma': 10}\n",
      "Average Test Accuracy: 0.2609, Average Test F1 Score: 0.2785\n",
      "Average Training Time per Fold: 50.8956 seconds\n",
      "Average Inference Time per Fold: 16.4433 seconds\n",
      "\n",
      "Hyperparameters: {'C': 10, 'gamma': 0.001}\n",
      "Average Test Accuracy: 0.9083, Average Test F1 Score: 0.9083\n",
      "Average Training Time per Fold: 6.5974 seconds\n",
      "Average Inference Time per Fold: 6.2858 seconds\n",
      "\n",
      "Hyperparameters: {'C': 10, 'gamma': 0.01}\n",
      "Average Test Accuracy: 0.9217, Average Test F1 Score: 0.9217\n",
      "Average Training Time per Fold: 3.3855 seconds\n",
      "Average Inference Time per Fold: 3.5391 seconds\n",
      "\n",
      "Hyperparameters: {'C': 10, 'gamma': 0.1}\n",
      "Average Test Accuracy: 0.9299, Average Test F1 Score: 0.9299\n",
      "Average Training Time per Fold: 2.8030 seconds\n",
      "Average Inference Time per Fold: 2.8144 seconds\n",
      "\n",
      "Hyperparameters: {'C': 10, 'gamma': 1}\n",
      "Average Test Accuracy: 0.9292, Average Test F1 Score: 0.9290\n",
      "Average Training Time per Fold: 11.4711 seconds\n",
      "Average Inference Time per Fold: 6.2469 seconds\n",
      "\n",
      "Hyperparameters: {'C': 10, 'gamma': 10}\n",
      "Average Test Accuracy: 0.3004, Average Test F1 Score: 0.3330\n",
      "Average Training Time per Fold: 50.7616 seconds\n",
      "Average Inference Time per Fold: 17.1367 seconds\n",
      "\n"
     ]
    }
   ],
   "source": [
    "param_grid_svc = {\n",
    "    'gamma': [0.001, 0.01, 0.1, 1, 10],\n",
    "    'C': [0.1, 1, 10]\n",
    "}\n",
    "\n",
    "# Perform cross-validation\n",
    "results_svc = cross_validate_model(\n",
    "    model_class = svm.SVC,\n",
    "    param_grid = param_grid_svc,\n",
    "    X = train_features,\n",
    "    y = train_labels,\n",
    "    k=5\n",
    ")"
   ]
  },
  {
   "cell_type": "code",
   "execution_count": 20,
   "id": "2d6b12ab-3801-4d58-9d39-e475c552a2fe",
   "metadata": {},
   "outputs": [
    {
     "data": {
      "image/png": "[encoded data removed]",
      "text/plain": [
       "<Figure size 1600x800 with 4 Axes>"
      ]
     },
     "metadata": {},
     "output_type": "display_data"
    }
   ],
   "source": [
    "#plot graph\n",
    "plot_heatmaps(\n",
    "    results=results_svc,\n",
    "    row_name='Gamma',\n",
    "    row_values=param_grid_svc['gamma'],\n",
    "    col_name='C',\n",
    "    col_values=param_grid_svc['C'],\n",
    ")\n"
   ]
  },
  {
   "cell_type": "markdown",
   "id": "d8a03205-68e2-4795-b953-a9b7263939fe",
   "metadata": {},
   "source": [
    "#### 4.2.Random Forest"
   ]
  },
  {
   "cell_type": "code",
   "execution_count": 21,
   "id": "9877d106-0465-473c-8c2a-b0e096687595",
   "metadata": {},
   "outputs": [
    {
     "name": "stdout",
     "output_type": "stream",
     "text": [
      "Hyperparameters: {'max_leaf_nodes': 10, 'n_estimators': 100}\n",
      "Average Test Accuracy: 0.8069, Average Test F1 Score: 0.7977\n",
      "Average Training Time per Fold: 11.3769 seconds\n",
      "Average Inference Time per Fold: 0.0268 seconds\n",
      "\n",
      "Hyperparameters: {'max_leaf_nodes': 10, 'n_estimators': 300}\n",
      "Average Test Accuracy: 0.8184, Average Test F1 Score: 0.8095\n",
      "Average Training Time per Fold: 33.6760 seconds\n",
      "Average Inference Time per Fold: 0.0698 seconds\n",
      "\n",
      "Hyperparameters: {'max_leaf_nodes': 10, 'n_estimators': 500}\n",
      "Average Test Accuracy: 0.8180, Average Test F1 Score: 0.8090\n",
      "Average Training Time per Fold: 55.9632 seconds\n",
      "Average Inference Time per Fold: 0.1302 seconds\n",
      "\n",
      "Hyperparameters: {'max_leaf_nodes': 16, 'n_estimators': 100}\n",
      "Average Test Accuracy: 0.8361, Average Test F1 Score: 0.8307\n",
      "Average Training Time per Fold: 12.7839 seconds\n",
      "Average Inference Time per Fold: 0.0269 seconds\n",
      "\n",
      "Hyperparameters: {'max_leaf_nodes': 16, 'n_estimators': 300}\n",
      "Average Test Accuracy: 0.8393, Average Test F1 Score: 0.8344\n",
      "Average Training Time per Fold: 37.2882 seconds\n",
      "Average Inference Time per Fold: 0.0743 seconds\n",
      "\n",
      "Hyperparameters: {'max_leaf_nodes': 16, 'n_estimators': 500}\n",
      "Average Test Accuracy: 0.8427, Average Test F1 Score: 0.8380\n",
      "Average Training Time per Fold: 64.3987 seconds\n",
      "Average Inference Time per Fold: 0.1315 seconds\n",
      "\n",
      "Hyperparameters: {'max_leaf_nodes': 32, 'n_estimators': 100}\n",
      "Average Test Accuracy: 0.8552, Average Test F1 Score: 0.8523\n",
      "Average Training Time per Fold: 15.1926 seconds\n",
      "Average Inference Time per Fold: 0.0348 seconds\n",
      "\n",
      "Hyperparameters: {'max_leaf_nodes': 32, 'n_estimators': 300}\n",
      "Average Test Accuracy: 0.8595, Average Test F1 Score: 0.8564\n",
      "Average Training Time per Fold: 44.6127 seconds\n",
      "Average Inference Time per Fold: 0.0963 seconds\n",
      "\n",
      "Hyperparameters: {'max_leaf_nodes': 32, 'n_estimators': 500}\n",
      "Average Test Accuracy: 0.8605, Average Test F1 Score: 0.8575\n",
      "Average Training Time per Fold: 75.1215 seconds\n",
      "Average Inference Time per Fold: 0.1586 seconds\n",
      "\n"
     ]
    }
   ],
   "source": [
    "param_grid_rf = {\n",
    "    'n_estimators': [100, 300, 500],\n",
    "    'max_leaf_nodes': [10, 16, 32],\n",
    "}\n",
    "\n",
    "# Perform cross-validation\n",
    "results_rf = cross_validate_model(\n",
    "    model_class = RandomForestClassifier,\n",
    "    param_grid = param_grid_rf,\n",
    "    X = train_features,\n",
    "    y = train_labels,\n",
    "    k = 5\n",
    ")"
   ]
  },
  {
   "cell_type": "code",
   "execution_count": 22,
   "id": "bb51ac80-0b82-43ff-91f1-f53100f4ac87",
   "metadata": {},
   "outputs": [
    {
     "data": {
      "image/png": "[encoded data removed]",
      "text/plain": [
       "<Figure size 1600x800 with 4 Axes>"
      ]
     },
     "metadata": {},
     "output_type": "display_data"
    }
   ],
   "source": [
    "#plot graph\n",
    "plot_heatmaps(\n",
    "    results=results_rf,\n",
    "    row_name='n_estimators',\n",
    "    row_values=param_grid_rf['n_estimators'],\n",
    "    col_name='max_leaf_nodes',\n",
    "    col_values=param_grid_rf['max_leaf_nodes'],\n",
    ")"
   ]
  },
  {
   "cell_type": "markdown",
   "id": "9b9cf202-b821-42d4-aa7b-73aa29d0ccea",
   "metadata": {},
   "source": [
    "#### 4.3.Logistic regression"
   ]
  },
  {
   "cell_type": "code",
   "execution_count": 23,
   "id": "3522a9ab-7eeb-418c-b622-ed2d7c1f7da0",
   "metadata": {},
   "outputs": [
    {
     "name": "stdout",
     "output_type": "stream",
     "text": [
      "Hyperparameters: {'C': 0.1, 'max_iter': 2000, 'penalty': 'l1', 'solver': 'saga'}\n",
      "Average Test Accuracy: 0.9036, Average Test F1 Score: 0.9037\n",
      "Average Training Time per Fold: 15.1188 seconds\n",
      "Average Inference Time per Fold: 0.0014 seconds\n",
      "\n",
      "Hyperparameters: {'C': 0.1, 'max_iter': 2000, 'penalty': 'l2', 'solver': 'saga'}\n",
      "Average Test Accuracy: 0.9116, Average Test F1 Score: 0.9116\n",
      "Average Training Time per Fold: 1.6492 seconds\n",
      "Average Inference Time per Fold: 0.0011 seconds\n",
      "\n",
      "Hyperparameters: {'C': 1, 'max_iter': 2000, 'penalty': 'l1', 'solver': 'saga'}\n",
      "Average Test Accuracy: 0.9179, Average Test F1 Score: 0.9179\n",
      "Average Training Time per Fold: 38.7165 seconds\n",
      "Average Inference Time per Fold: 0.0015 seconds\n",
      "\n",
      "Hyperparameters: {'C': 1, 'max_iter': 2000, 'penalty': 'l2', 'solver': 'saga'}\n",
      "Average Test Accuracy: 0.9200, Average Test F1 Score: 0.9200\n",
      "Average Training Time per Fold: 5.7035 seconds\n",
      "Average Inference Time per Fold: 0.0013 seconds\n",
      "\n",
      "Hyperparameters: {'C': 10, 'max_iter': 2000, 'penalty': 'l1', 'solver': 'saga'}\n",
      "Average Test Accuracy: 0.9183, Average Test F1 Score: 0.9182\n",
      "Average Training Time per Fold: 98.8971 seconds\n",
      "Average Inference Time per Fold: 0.0013 seconds\n",
      "\n",
      "Hyperparameters: {'C': 10, 'max_iter': 2000, 'penalty': 'l2', 'solver': 'saga'}\n"
     ]
    },
    {
     "name": "stderr",
     "output_type": "stream",
     "text": [
      "C:\\Users\\Owner\\.conda\\envs\\pytorch_gpu\\Lib\\site-packages\\sklearn\\linear_model\\_sag.py:349: ConvergenceWarning: The max_iter was reached which means the coef_ did not converge\n",
      "  warnings.warn(\n",
      "C:\\Users\\Owner\\.conda\\envs\\pytorch_gpu\\Lib\\site-packages\\sklearn\\linear_model\\_sag.py:349: ConvergenceWarning: The max_iter was reached which means the coef_ did not converge\n",
      "  warnings.warn(\n",
      "C:\\Users\\Owner\\.conda\\envs\\pytorch_gpu\\Lib\\site-packages\\sklearn\\linear_model\\_sag.py:349: ConvergenceWarning: The max_iter was reached which means the coef_ did not converge\n",
      "  warnings.warn(\n",
      "C:\\Users\\Owner\\.conda\\envs\\pytorch_gpu\\Lib\\site-packages\\sklearn\\linear_model\\_sag.py:349: ConvergenceWarning: The max_iter was reached which means the coef_ did not converge\n",
      "  warnings.warn(\n"
     ]
    },
    {
     "name": "stdout",
     "output_type": "stream",
     "text": [
      "Average Test Accuracy: 0.9189, Average Test F1 Score: 0.9189\n",
      "Average Training Time per Fold: 183.1356 seconds\n",
      "Average Inference Time per Fold: 0.0013 seconds\n",
      "\n"
     ]
    },
    {
     "name": "stderr",
     "output_type": "stream",
     "text": [
      "C:\\Users\\Owner\\.conda\\envs\\pytorch_gpu\\Lib\\site-packages\\sklearn\\linear_model\\_sag.py:349: ConvergenceWarning: The max_iter was reached which means the coef_ did not converge\n",
      "  warnings.warn(\n"
     ]
    }
   ],
   "source": [
    "param_grid_log = {\n",
    "    'C': [0.1, 1, 10],\n",
    "    'penalty': ['l1', 'l2'],\n",
    "    'solver': ['saga'],\n",
    "    'max_iter':[2000]\n",
    "}\n",
    "\n",
    "# Perform cross-validation\n",
    "results_log = cross_validate_model(\n",
    "    model_class = LogisticRegression,\n",
    "    param_grid = param_grid_log,\n",
    "    X = train_features,\n",
    "    y = train_labels,\n",
    "    k=5\n",
    ")"
   ]
  },
  {
   "cell_type": "code",
   "execution_count": 24,
   "id": "bb616d0c-fcad-453c-8150-c33e70dd8786",
   "metadata": {},
   "outputs": [
    {
     "data": {
      "image/png": "[encoded data removed]",
      "text/plain": [
       "<Figure size 1600x800 with 4 Axes>"
      ]
     },
     "metadata": {},
     "output_type": "display_data"
    }
   ],
   "source": [
    "#plot graph\n",
    "plot_heatmaps(\n",
    "    results=results_log,\n",
    "    row_name='C',\n",
    "    row_values=param_grid_log['C'],\n",
    "    col_name='penalty',\n",
    "    col_values=param_grid_log['penalty'],\n",
    ")"
   ]
  },
  {
   "cell_type": "markdown",
   "id": "39250eb1-3983-4077-bcba-b57c63bbb9b9",
   "metadata": {},
   "source": [
    "#### 4.4.KNN"
   ]
  },
  {
   "cell_type": "code",
   "execution_count": 25,
   "id": "f047b61e-3547-48cc-a66d-b617fd8b212f",
   "metadata": {},
   "outputs": [
    {
     "name": "stdout",
     "output_type": "stream",
     "text": [
      "Hyperparameters: {'algorithm': 'auto', 'n_neighbors': 5, 'p': 1}\n",
      "Average Test Accuracy: 0.9110, Average Test F1 Score: 0.9106\n",
      "Average Training Time per Fold: 0.0025 seconds\n",
      "Average Inference Time per Fold: 3.4611 seconds\n",
      "\n",
      "Hyperparameters: {'algorithm': 'auto', 'n_neighbors': 5, 'p': 2}\n",
      "Average Test Accuracy: 0.9107, Average Test F1 Score: 0.9104\n",
      "Average Training Time per Fold: 0.0020 seconds\n",
      "Average Inference Time per Fold: 0.3618 seconds\n",
      "\n",
      "Hyperparameters: {'algorithm': 'auto', 'n_neighbors': 7, 'p': 1}\n",
      "Average Test Accuracy: 0.9117, Average Test F1 Score: 0.9114\n",
      "Average Training Time per Fold: 0.0020 seconds\n",
      "Average Inference Time per Fold: 3.4354 seconds\n",
      "\n",
      "Hyperparameters: {'algorithm': 'auto', 'n_neighbors': 7, 'p': 2}\n",
      "Average Test Accuracy: 0.9126, Average Test F1 Score: 0.9124\n",
      "Average Training Time per Fold: 0.0020 seconds\n",
      "Average Inference Time per Fold: 0.3681 seconds\n",
      "\n",
      "Hyperparameters: {'algorithm': 'auto', 'n_neighbors': 9, 'p': 1}\n",
      "Average Test Accuracy: 0.9125, Average Test F1 Score: 0.9122\n",
      "Average Training Time per Fold: 0.0021 seconds\n",
      "Average Inference Time per Fold: 3.4629 seconds\n",
      "\n",
      "Hyperparameters: {'algorithm': 'auto', 'n_neighbors': 9, 'p': 2}\n",
      "Average Test Accuracy: 0.9134, Average Test F1 Score: 0.9131\n",
      "Average Training Time per Fold: 0.0020 seconds\n",
      "Average Inference Time per Fold: 0.3621 seconds\n",
      "\n",
      "Hyperparameters: {'algorithm': 'auto', 'n_neighbors': 11, 'p': 1}\n",
      "Average Test Accuracy: 0.9118, Average Test F1 Score: 0.9115\n",
      "Average Training Time per Fold: 0.0022 seconds\n",
      "Average Inference Time per Fold: 3.4548 seconds\n",
      "\n",
      "Hyperparameters: {'algorithm': 'auto', 'n_neighbors': 11, 'p': 2}\n",
      "Average Test Accuracy: 0.9129, Average Test F1 Score: 0.9125\n",
      "Average Training Time per Fold: 0.0019 seconds\n",
      "Average Inference Time per Fold: 0.3605 seconds\n",
      "\n"
     ]
    }
   ],
   "source": [
    "param_grid_knn = {\n",
    "    'n_neighbors': [5,7, 9, 11], \n",
    "    # 'weights': ['uniform','distance'], \n",
    "    'p': [1,2], \n",
    "    'algorithm': ['auto']\n",
    "}\n",
    "\n",
    "# Perform cross-validation\n",
    "results_knn = cross_validate_model(\n",
    "    model_class = KNeighborsClassifier,\n",
    "    param_grid = param_grid_knn,\n",
    "    X = train_features,\n",
    "    y = train_labels,\n",
    "    k=5\n",
    ")"
   ]
  },
  {
   "cell_type": "code",
   "execution_count": 26,
   "id": "f8c3a986-0a7e-48cb-85cb-16fde34304d1",
   "metadata": {},
   "outputs": [
    {
     "data": {
      "image/png": "[encoded data removed]",
      "text/plain": [
       "<Figure size 1600x800 with 4 Axes>"
      ]
     },
     "metadata": {},
     "output_type": "display_data"
    }
   ],
   "source": [
    "#plot graph\n",
    "plot_heatmaps(\n",
    "    results=results_knn,\n",
    "    row_name='n_neighbors',\n",
    "    row_values=param_grid_knn['n_neighbors'],\n",
    "    col_name='p',\n",
    "    col_values=param_grid_knn['p'],\n",
    ")"
   ]
  },
  {
   "cell_type": "markdown",
   "id": "6e2f2247-4b2e-4ce3-b039-9e09341e3675",
   "metadata": {},
   "source": [
    "### 5.Model Evaluation and Comparison "
   ]
  },
  {
   "cell_type": "code",
   "execution_count": 27,
   "id": "8fa241e1-676e-445b-b645-2ebe6a20b06a",
   "metadata": {},
   "outputs": [
    {
     "name": "stdout",
     "output_type": "stream",
     "text": [
      "training time: 19.858724 seconds\n",
      "inference time: 2.346534 seconds\n",
      "Test Accuracy: 0.929\n",
      "training time: 60.239416 seconds\n",
      "inference time: 0.038406 seconds\n",
      "Test Accuracy: 0.8615\n",
      "training time: 0.002148 seconds\n",
      "inference time: 0.170014 seconds\n",
      "Test Accuracy: 0.914\n",
      "training time: 7.371753 seconds\n",
      "inference time: 0.001056 seconds\n",
      "Test Accuracy: 0.9235\n"
     ]
    }
   ],
   "source": [
    "result = []\n",
    "models = [svm.SVC(C=10, gamma=1), RandomForestClassifier(n_estimators=300, max_leaf_nodes=32), \n",
    "          KNeighborsClassifier(n_neighbors = 7, p=2), LogisticRegression(C = 1, penalty = 'l2',solver='saga', max_iter=2000)]\n",
    "\n",
    "#compare four models\n",
    "for i in range(4):\n",
    "    cur_model = models[i]\n",
    "    start_time = time.perf_counter()\n",
    "    cur_model.fit(train_features, train_labels)\n",
    "    end_time = time.perf_counter()\n",
    "    training_time = end_time - start_time\n",
    "    print(f\"training time: {training_time:.6f} seconds\")\n",
    "    \n",
    "    start_time = time.perf_counter()\n",
    "    test_pred = cur_model.predict(test_features)\n",
    "    end_time = time.perf_counter()\n",
    "    inference_time = end_time - start_time\n",
    "    print(f\"inference time: {inference_time:.6f} seconds\")\n",
    "    accuracy = accuracy_score(test_labels, test_pred)\n",
    "    f1 = f1_score(test_labels, test_pred, average='weighted')\n",
    "    print(f\"Test Accuracy: {accuracy}\")\n",
    "\n",
    "    result.append([accuracy, f1, training_time, inference_time])"
   ]
  },
  {
   "cell_type": "code",
   "execution_count": 28,
   "id": "732f545b-a6a2-4f5b-ab7d-1fbb67c013cf",
   "metadata": {},
   "outputs": [
    {
     "data": {
      "text/plain": [
       "[[0.929,\n",
       "  np.float64(0.9283764404058119),\n",
       "  19.858724499994423,\n",
       "  2.3465344000142068],\n",
       " [0.8615,\n",
       "  np.float64(0.8585224586685365),\n",
       "  60.23941589996684,\n",
       "  0.03840570000465959],\n",
       " [0.914,\n",
       "  np.float64(0.9135174186703224),\n",
       "  0.002147899998817593,\n",
       "  0.170013899973128],\n",
       " [0.9235,\n",
       "  np.float64(0.9233699825512889),\n",
       "  7.371752500010189,\n",
       "  0.0010561999515630305]]"
      ]
     },
     "execution_count": 28,
     "metadata": {},
     "output_type": "execute_result"
    }
   ],
   "source": [
    "result"
   ]
  },
  {
   "cell_type": "code",
   "execution_count": 29,
   "id": "88adb548-2fbc-4dd6-9b79-131d740f0c9e",
   "metadata": {},
   "outputs": [
    {
     "data": {
      "image/png": "[encoded data removed]",
      "text/plain": [
       "<Figure size 800x800 with 1 Axes>"
      ]
     },
     "metadata": {},
     "output_type": "display_data"
    }
   ],
   "source": [
    "#plot \n",
    "result = np.array(result)\n",
    "categories = ['Accuracy', 'F1-Score', 'Training Time (s)', 'Inference Time (s)']\n",
    "models = ['SVC', 'Random Forest', 'KNN', 'Logistic Regression']\n",
    "\n",
    "result_normalized = result  / result.max(axis=0)\n",
    "num_vars = len(categories)\n",
    "angles = np.linspace(0, 2 * np.pi, num_vars, endpoint=False).tolist()\n",
    "angles += angles[:1]\n",
    "fig, ax = plt.subplots(figsize=(8, 8), subplot_kw=dict(polar=True))\n",
    "for i, model_data in enumerate(result_normalized):\n",
    "    values = model_data.tolist()\n",
    "    values += values[:1]  \n",
    "    ax.plot(angles, values, linewidth=2, label=models[i])\n",
    "\n",
    "ax.set_yticklabels([])\n",
    "ax.set_xticks(angles[:-1])\n",
    "ax.set_xticklabels(categories)\n",
    "\n",
    "ax.legend()\n",
    "plt.title('Comparison of Machine Learning Models')\n",
    "plt.show()"
   ]
  },
  {
   "cell_type": "markdown",
   "id": "761ea35e-63b8-4eaa-839b-f979cd18608d",
   "metadata": {},
   "source": [
    "### 6.Predict with best classifier"
   ]
  },
  {
   "cell_type": "code",
   "execution_count": 30,
   "id": "11e890a1-a4d6-4ef2-9530-8f2508f622a7",
   "metadata": {},
   "outputs": [],
   "source": [
    "#predict\n",
    "final_model = svm.SVC(C=10, gamma=1)\n",
    "final_model.fit(train_features, train_labels)\n",
    "prediction = final_model.predict(predict_features).reshape(-1, 1)"
   ]
  },
  {
   "cell_type": "code",
   "execution_count": 31,
   "id": "102f8cae-e907-4e9a-a4b9-4173642c204b",
   "metadata": {},
   "outputs": [],
   "source": [
    "#generate indice\n",
    "indices = np.arange(len(prediction)).reshape(-1, 1)\n",
    "#concate \n",
    "indexed_array = np.hstack((indices, prediction))"
   ]
  },
  {
   "cell_type": "code",
   "execution_count": 32,
   "id": "7e03a6d6-3220-4cfe-80a5-60feb1959d1e",
   "metadata": {},
   "outputs": [
    {
     "data": {
      "text/plain": [
       "(5000, 2)"
      ]
     },
     "execution_count": 32,
     "metadata": {},
     "output_type": "execute_result"
    }
   ],
   "source": [
    "indexed_array.shape"
   ]
  },
  {
   "cell_type": "code",
   "execution_count": 33,
   "id": "665eb75d-7dac-4f35-b496-d2301df7d1fc",
   "metadata": {},
   "outputs": [],
   "source": [
    "#save result\n",
    "df = pd.DataFrame(indexed_array, columns = ['id','label'])\n",
    "df\n",
    "df.to_csv(r'test_output.csv', index=False)"
   ]
  },
  {
   "cell_type": "markdown",
   "id": "afa976c9-6010-4c05-8ad8-901bb4110d74",
   "metadata": {},
   "source": [
    "### Reference of the package"
   ]
  },
  {
   "cell_type": "markdown",
   "id": "20af7520-339d-4225-8bef-89e33390accd",
   "metadata": {},
   "source": [
    "#### 1.pytorch https://pytorch.org/ \n",
    "#### The deep learning model was not based on a public model, it was self-designed and trained.\n",
    "#### 2.tqdm https://tqdm.github.io/\n",
    "#### 3.seaborn https://seaborn.pydata.org/"
   ]
  }
 ],
 "metadata": {
  "kernelspec": {
   "display_name": "Python 3 (ipykernel)",
   "language": "python",
   "name": "python3"
  },
  "language_info": {
   "codemirror_mode": {
    "name": "ipython",
    "version": 3
   },
   "file_extension": ".py",
   "mimetype": "text/x-python",
   "name": "python",
   "nbconvert_exporter": "python",
   "pygments_lexer": "ipython3",
   "version": "3.11.7"
  }
 },
 "nbformat": 4,
 "nbformat_minor": 5
}
